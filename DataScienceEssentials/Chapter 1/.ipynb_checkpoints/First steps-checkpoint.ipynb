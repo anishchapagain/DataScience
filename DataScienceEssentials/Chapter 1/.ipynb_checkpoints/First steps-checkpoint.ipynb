{
 "cells": [
  {
   "cell_type": "markdown",
   "metadata": {},
   "source": [
    "Let's first check the Python version you have installed on your machine.\n",
    "Remember, to run the examples, it must be at least 3.4"
   ]
  },
  {
   "cell_type": "code",
   "execution_count": 1,
   "metadata": {
    "collapsed": false
   },
   "outputs": [
    {
     "name": "stdout",
     "output_type": "stream",
     "text": [
      "Your Python version is 3.4.3 (v3.4.3:9b73f1c3e601, Feb 24 2015, 22:44:40) [MSC v.1600 64 bit (AMD64)]\n"
     ]
    }
   ],
   "source": [
    "import sys\n",
    "print (\"Your Python version is\", sys.version)"
   ]
  },
  {
   "cell_type": "markdown",
   "metadata": {},
   "source": [
    "Now let's check if you have all the necessary toolkits installed and working properly:"
   ]
  },
  {
   "cell_type": "code",
   "execution_count": 2,
   "metadata": {
    "collapsed": false
   },
   "outputs": [],
   "source": [
    "errors = 0"
   ]
  },
  {
   "cell_type": "code",
   "execution_count": 3,
   "metadata": {
    "collapsed": false
   },
   "outputs": [
    {
     "name": "stdout",
     "output_type": "stream",
     "text": [
      "Numpy installed, version 1.9.2\n"
     ]
    }
   ],
   "source": [
    "try:\n",
    "    import numpy as np\n",
    "    print (\"Numpy installed, version\", np.__version__)\n",
    "except ImportError:\n",
    "    print (\"Numpy is not installed!\")\n",
    "    errors += 1"
   ]
  },
  {
   "cell_type": "code",
   "execution_count": 4,
   "metadata": {
    "collapsed": false
   },
   "outputs": [
    {
     "name": "stdout",
     "output_type": "stream",
     "text": [
      "Scipy installed, version 0.16.0\n"
     ]
    }
   ],
   "source": [
    "try:\n",
    "    import scipy\n",
    "    print (\"Scipy installed, version\", scipy.__version__)\n",
    "except ImportError:\n",
    "    print (\"Scipy is not installed!\")\n",
    "    errors += 1"
   ]
  },
  {
   "cell_type": "code",
   "execution_count": 5,
   "metadata": {
    "collapsed": false
   },
   "outputs": [
    {
     "name": "stdout",
     "output_type": "stream",
     "text": [
      "Matplotlib installed, version 1.4.3\n"
     ]
    }
   ],
   "source": [
    "try:\n",
    "    import matplotlib\n",
    "    print (\"Matplotlib installed, version\", matplotlib.__version__)\n",
    "except ImportError:\n",
    "    print (\"Matplotlib is not installed!\")\n",
    "    errors += 1"
   ]
  },
  {
   "cell_type": "code",
   "execution_count": 6,
   "metadata": {
    "collapsed": false
   },
   "outputs": [
    {
     "name": "stdout",
     "output_type": "stream",
     "text": [
      "Sklearn installed, version 0.16.1\n"
     ]
    }
   ],
   "source": [
    "try:\n",
    "    import sklearn\n",
    "    print (\"Sklearn installed, version\", sklearn.__version__)\n",
    "except ImportError:\n",
    "    print (\"Sklearn is not installed!\")\n",
    "    errors += 1"
   ]
  },
  {
   "cell_type": "code",
   "execution_count": 7,
   "metadata": {
    "collapsed": false
   },
   "outputs": [
    {
     "name": "stdout",
     "output_type": "stream",
     "text": [
      "Beautifulsoup4  installed, version 4.4.0\n"
     ]
    }
   ],
   "source": [
    "try:\n",
    "    import bs4\n",
    "    print (\"Beautifulsoup4  installed, version\", bs4.__version__)\n",
    "except ImportError:\n",
    "    print (\"Beautifulsoup4  is not installed!\")\n",
    "    errors += 1"
   ]
  },
  {
   "cell_type": "code",
   "execution_count": 8,
   "metadata": {
    "collapsed": false
   },
   "outputs": [
    {
     "name": "stdout",
     "output_type": "stream",
     "text": [
      "Networkx installed, version 1.9.1\n"
     ]
    }
   ],
   "source": [
    "try:\n",
    "    import networkx\n",
    "    print (\"Networkx installed, version\", networkx.__version__)\n",
    "except ImportError:\n",
    "    print (\"Networkx is not installed!\")\n",
    "    errors += 1"
   ]
  },
  {
   "cell_type": "code",
   "execution_count": 9,
   "metadata": {
    "collapsed": false
   },
   "outputs": [
    {
     "name": "stdout",
     "output_type": "stream",
     "text": [
      "Nltk installed, version 3.0.4\n"
     ]
    }
   ],
   "source": [
    "try:\n",
    "    import nltk\n",
    "    print (\"Nltk installed, version\", nltk.__version__)\n",
    "except ImportError:\n",
    "    print (\"Nltk is not installed!\")\n",
    "    errors += 1"
   ]
  },
  {
   "cell_type": "code",
   "execution_count": 10,
   "metadata": {
    "collapsed": false
   },
   "outputs": [
    {
     "name": "stdout",
     "output_type": "stream",
     "text": [
      "Gensim installed, version 0.12.4\n"
     ]
    }
   ],
   "source": [
    "try:\n",
    "    import gensim\n",
    "    print (\"Gensim installed, version\", gensim.__version__)\n",
    "except ImportError:\n",
    "    print (\"Gensim is not installed!\")\n",
    "    errors += 1"
   ]
  },
  {
   "cell_type": "code",
   "execution_count": 11,
   "metadata": {
    "collapsed": false
   },
   "outputs": [
    {
     "name": "stdout",
     "output_type": "stream",
     "text": [
      "XGBoost installed, version 0.4\n"
     ]
    }
   ],
   "source": [
    "try:\n",
    "    import xgboost\n",
    "    print (\"XGBoost installed, version\", xgboost.__version__)\n",
    "except ImportError:\n",
    "    print (\"XGBoost is not installed!\")\n",
    "    errors += 1"
   ]
  },
  {
   "cell_type": "code",
   "execution_count": 12,
   "metadata": {
    "collapsed": false
   },
   "outputs": [
    {
     "name": "stdout",
     "output_type": "stream",
     "text": [
      "Theano installed, version 0.7.0\n"
     ]
    }
   ],
   "source": [
    "try:\n",
    "    import theano\n",
    "    print (\"Theano installed, version\", theano.__version__)\n",
    "except ImportError:\n",
    "    print (\"Theano is not installed!\")\n",
    "    errors += 1"
   ]
  },
  {
   "cell_type": "code",
   "execution_count": 13,
   "metadata": {
    "collapsed": false
   },
   "outputs": [
    {
     "name": "stdout",
     "output_type": "stream",
     "text": [
      "Keras installed, version 0.1.2\n"
     ]
    }
   ],
   "source": [
    "try:\n",
    "    import keras\n",
    "    import pkg_resources\n",
    "    vs = pkg_resources.get_distribution(\"keras\").version\n",
    "    print (\"Keras installed, version\", vs)\n",
    "except ImportError:\n",
    "    print (\"Keras is not installed!\")\n",
    "    errors += 1"
   ]
  },
  {
   "cell_type": "markdown",
   "metadata": {},
   "source": [
    "This is a $\\LaTeX$ inline equation: $x = Ax+b$\n",
    "\n",
    "And this is a one-liner: $$x = Ax + b$$"
   ]
  },
  {
   "cell_type": "code",
   "execution_count": 14,
   "metadata": {
    "collapsed": false
   },
   "outputs": [
    {
     "data": {
      "text/latex": [
       "\\[\n",
       " |u(t)| = \n",
       "  \\begin{cases} \n",
       "   u(t) & \\text{if } t \\geq 0 \\\\\n",
       "   -u(t)       & \\text{otherwise }\n",
       "  \\end{cases}\n",
       "\\]"
      ],
      "text/plain": [
       "<IPython.core.display.Latex object>"
      ]
     },
     "metadata": {},
     "output_type": "display_data"
    }
   ],
   "source": [
    "%%latex\n",
    "\\[\n",
    " |u(t)| = \n",
    "  \\begin{cases} \n",
    "   u(t) & \\text{if } t \\geq 0 \\\\\n",
    "   -u(t)       & \\text{otherwise }\n",
    "  \\end{cases}\n",
    "\\]"
   ]
  },
  {
   "cell_type": "code",
   "execution_count": 15,
   "metadata": {
    "collapsed": false
   },
   "outputs": [
    {
     "data": {
      "text/latex": [
       "\\begin{align}\n",
       "f(x) &= (a+b)^2 \\\\\n",
       "     &= a^2 + (a+b) + (a+b) + b^2 \\\\\n",
       "     &= a^2 + 2\\cdot (a+b) + b^2\n",
       "\\end{align}"
      ],
      "text/plain": [
       "<IPython.core.display.Latex object>"
      ]
     },
     "metadata": {},
     "output_type": "display_data"
    }
   ],
   "source": [
    "%%latex\n",
    "\\begin{align}\n",
    "f(x) &= (a+b)^2 \\\\\n",
    "     &= a^2 + (a+b) + (a+b) + b^2 \\\\\n",
    "     &= a^2 + 2\\cdot (a+b) + b^2\n",
    "\\end{align}"
   ]
  },
  {
   "cell_type": "markdown",
   "metadata": {},
   "source": [
    "Here's the verdict:"
   ]
  },
  {
   "cell_type": "code",
   "execution_count": 16,
   "metadata": {
    "collapsed": false
   },
   "outputs": [
    {
     "name": "stdout",
     "output_type": "stream",
     "text": [
      "Your machine can run the code\n"
     ]
    }
   ],
   "source": [
    "if errors == 0:\n",
    "    print (\"Your machine can run the code\")\n",
    "else:\n",
    "    print (\"We found %i errors. Please check them and install the missing toolkits\" % errors)"
   ]
  }
 ],
 "metadata": {
  "kernelspec": {
   "display_name": "Python 2",
   "language": "python",
   "name": "python2"
  },
  "language_info": {
   "codemirror_mode": {
    "name": "ipython",
    "version": 2
   },
   "file_extension": ".py",
   "mimetype": "text/x-python",
   "name": "python",
   "nbconvert_exporter": "python",
   "pygments_lexer": "ipython2",
   "version": "2.7.12"
  }
 },
 "nbformat": 4,
 "nbformat_minor": 0
}
