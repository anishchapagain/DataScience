{
 "cells": [
  {
   "cell_type": "markdown",
   "metadata": {},
   "source": [
    "# Machine Learning"
   ]
  },
  {
   "cell_type": "markdown",
   "metadata": {},
   "source": [
    "## Fetching datasets"
   ]
  },
  {
   "cell_type": "code",
   "execution_count": 1,
   "metadata": {
    "collapsed": true
   },
   "outputs": [],
   "source": [
    "# You need an internet connection to fetch the data\n",
    "# The commands will save most of the datasets\n",
    "# used in the chapter into your work directory"
   ]
  },
  {
   "cell_type": "code",
   "execution_count": 2,
   "metadata": {
    "collapsed": true
   },
   "outputs": [],
   "source": [
    "import pickle\n",
    "import urllib\n",
    "from sklearn.datasets import fetch_mldata\n",
    "from sklearn.datasets import load_svmlight_file\n",
    "from sklearn.datasets import fetch_covtype\n",
    "from sklearn.datasets import fetch_20newsgroups"
   ]
  },
  {
   "cell_type": "code",
   "execution_count": 3,
   "metadata": {
    "collapsed": false
   },
   "outputs": [],
   "source": [
    "mnist = fetch_mldata(\"MNIST original\")\n",
    "pickle.dump(mnist, open( \"mnist.pickle\", \"wb\" ))"
   ]
  },
  {
   "cell_type": "code",
   "execution_count": 4,
   "metadata": {
    "collapsed": false
   },
   "outputs": [],
   "source": [
    "target_page = 'http://www.csie.ntu.edu.tw/~cjlin/libsvmtools/datasets/binary/ijcnn1.bz2'\n",
    "with urllib.request.urlopen(target_page) as response:\n",
    "    with open('ijcnn1.bz2','wb') as W:\n",
    "        W.write(response.read())"
   ]
  },
  {
   "cell_type": "code",
   "execution_count": 5,
   "metadata": {
    "collapsed": false
   },
   "outputs": [],
   "source": [
    "target_page = 'http://www.csie.ntu.edu.tw/~cjlin/libsvmtools/datasets/regression/cadata'\n",
    "cadata = load_svmlight_file(urllib.request.urlopen(target_page))\n",
    "pickle.dump(cadata, open( \"cadata.pickle\", \"wb\" ))"
   ]
  },
  {
   "cell_type": "code",
   "execution_count": 6,
   "metadata": {
    "collapsed": false
   },
   "outputs": [],
   "source": [
    "covertype_dataset = fetch_covtype(random_state=101, shuffle=True)\n",
    "pickle.dump(covertype_dataset, open( \"covertype_dataset.pickle\", \"wb\" ))"
   ]
  },
  {
   "cell_type": "code",
   "execution_count": 7,
   "metadata": {
    "collapsed": true
   },
   "outputs": [],
   "source": [
    "newsgroups_dataset = fetch_20newsgroups(shuffle=True, remove=('headers', 'footers', 'quotes'), random_state=6)\n",
    "pickle.dump(newsgroups_dataset, open( \"newsgroups_dataset.pickle\", \"wb\" ))"
   ]
  },
  {
   "cell_type": "markdown",
   "metadata": {},
   "source": [
    "## Linear and logistic regression"
   ]
  },
  {
   "cell_type": "code",
   "execution_count": 8,
   "metadata": {
    "collapsed": false
   },
   "outputs": [],
   "source": [
    "from sklearn.datasets import load_boston\n",
    "boston = load_boston()\n",
    "from sklearn.cross_validation import train_test_split\n",
    "X_train, X_test, Y_train, Y_test = train_test_split(boston.data, \n",
    "                    boston.target, test_size=0.2, random_state=0)"
   ]
  },
  {
   "cell_type": "code",
   "execution_count": 9,
   "metadata": {
    "collapsed": false
   },
   "outputs": [
    {
     "name": "stdout",
     "output_type": "stream",
     "text": [
      "MAE 3.84281058945\n"
     ]
    },
    {
     "name": "stderr",
     "output_type": "stream",
     "text": [
      "/Library/Frameworks/Python.framework/Versions/3.5/lib/python3.5/site-packages/scipy/linalg/basic.py:884: RuntimeWarning: internal gelsd driver lwork query error, required iwork dimension not returned. This is likely the result of LAPACK bug 0038, fixed in LAPACK 3.2.2 (released July 21, 2010). Falling back to 'gelss' driver.\n",
      "  warnings.warn(mesg, RuntimeWarning)\n"
     ]
    }
   ],
   "source": [
    "from sklearn.linear_model import LinearRegression\n",
    "regr = LinearRegression()\n",
    "regr.fit(X_train, Y_train)\n",
    "Y_pred = regr.predict(X_test)\n",
    "from sklearn.metrics import mean_absolute_error\n",
    "print (\"MAE\", mean_absolute_error(Y_test, Y_pred))"
   ]
  },
  {
   "cell_type": "code",
   "execution_count": 10,
   "metadata": {
    "collapsed": false
   },
   "outputs": [
    {
     "name": "stdout",
     "output_type": "stream",
     "text": [
      "1000 loops, best of 3: 574 µs per loop\n"
     ]
    }
   ],
   "source": [
    "%timeit regr.fit(X_train, Y_train) "
   ]
  },
  {
   "cell_type": "code",
   "execution_count": 11,
   "metadata": {
    "collapsed": false
   },
   "outputs": [],
   "source": [
    "import numpy as np\n",
    "avg_price_house = np.average(boston.target)\n",
    "high_priced_idx = (Y_train >= avg_price_house)\n",
    "Y_train[high_priced_idx] = 1\n",
    "Y_train[np.logical_not(high_priced_idx)] = 0\n",
    "Y_train = Y_train.astype(np.int8)\n",
    "high_priced_idx = (Y_test >= avg_price_house)\n",
    "Y_test[high_priced_idx] = 1\n",
    "Y_test[np.logical_not(high_priced_idx)] = 0\n",
    "Y_test = Y_test.astype(np.int8)"
   ]
  },
  {
   "cell_type": "code",
   "execution_count": 12,
   "metadata": {
    "collapsed": false
   },
   "outputs": [
    {
     "name": "stdout",
     "output_type": "stream",
     "text": [
      "             precision    recall  f1-score   support\n",
      "\n",
      "          0       0.81      0.92      0.86        61\n",
      "          1       0.85      0.68      0.76        41\n",
      "\n",
      "avg / total       0.83      0.82      0.82       102\n",
      "\n"
     ]
    }
   ],
   "source": [
    "from sklearn.linear_model import LogisticRegression\n",
    "clf = LogisticRegression()\n",
    "clf.fit(X_train, Y_train)\n",
    "Y_pred = clf.predict(X_test)\n",
    "from sklearn.metrics import classification_report\n",
    "print (classification_report(Y_test, Y_pred))"
   ]
  },
  {
   "cell_type": "code",
   "execution_count": 13,
   "metadata": {
    "collapsed": false
   },
   "outputs": [
    {
     "name": "stdout",
     "output_type": "stream",
     "text": [
      "100 loops, best of 3: 2.65 ms per loop\n"
     ]
    }
   ],
   "source": [
    "%timeit clf.fit(X_train, Y_train)"
   ]
  },
  {
   "cell_type": "markdown",
   "metadata": {},
   "source": [
    "## Naive Bayes"
   ]
  },
  {
   "cell_type": "code",
   "execution_count": 14,
   "metadata": {
    "collapsed": false
   },
   "outputs": [],
   "source": [
    "from sklearn import datasets\n",
    "iris = datasets.load_iris()\n",
    "from sklearn.cross_validation import train_test_split\n",
    "X_train, X_test, Y_train, Y_test = train_test_split(iris.data, \n",
    "                    iris.target, test_size=0.2, random_state=0)"
   ]
  },
  {
   "cell_type": "code",
   "execution_count": 15,
   "metadata": {
    "collapsed": false
   },
   "outputs": [],
   "source": [
    "from sklearn.naive_bayes import GaussianNB\n",
    "clf = GaussianNB()\n",
    "clf.fit(X_train, Y_train)\n",
    "Y_pred = clf.predict(X_test)"
   ]
  },
  {
   "cell_type": "code",
   "execution_count": 16,
   "metadata": {
    "collapsed": false
   },
   "outputs": [
    {
     "name": "stdout",
     "output_type": "stream",
     "text": [
      "             precision    recall  f1-score   support\n",
      "\n",
      "          0       1.00      1.00      1.00        11\n",
      "          1       0.93      1.00      0.96        13\n",
      "          2       1.00      0.83      0.91         6\n",
      "\n",
      "avg / total       0.97      0.97      0.97        30\n",
      "\n"
     ]
    }
   ],
   "source": [
    "from sklearn.metrics import classification_report\n",
    "print (classification_report(Y_test, Y_pred))"
   ]
  },
  {
   "cell_type": "code",
   "execution_count": 17,
   "metadata": {
    "collapsed": false
   },
   "outputs": [
    {
     "name": "stdout",
     "output_type": "stream",
     "text": [
      "1000 loops, best of 3: 636 µs per loop\n"
     ]
    }
   ],
   "source": [
    "%timeit clf.fit(X_train, Y_train)"
   ]
  },
  {
   "cell_type": "markdown",
   "metadata": {},
   "source": [
    "## K-nearest neighbours"
   ]
  },
  {
   "cell_type": "code",
   "execution_count": 18,
   "metadata": {
    "collapsed": false
   },
   "outputs": [],
   "source": [
    "from sklearn.utils import shuffle\n",
    "from sklearn.cross_validation import train_test_split"
   ]
  },
  {
   "cell_type": "code",
   "execution_count": 19,
   "metadata": {
    "collapsed": false
   },
   "outputs": [],
   "source": [
    "#imports the mnist object \n",
    "# previously pickled and dumped to disk\n",
    "import pickle\n",
    "mnist = pickle.load(open( \"mnist.pickle\", \"rb\" ))"
   ]
  },
  {
   "cell_type": "code",
   "execution_count": 20,
   "metadata": {
    "collapsed": false
   },
   "outputs": [],
   "source": [
    "mnist.data, mnist.target = shuffle(mnist.data, mnist.target)"
   ]
  },
  {
   "cell_type": "code",
   "execution_count": 21,
   "metadata": {
    "collapsed": false
   },
   "outputs": [],
   "source": [
    "# We reduce the dataset size, otherwise it'll take too much time to run\n",
    "mnist.data = mnist.data[:1000]\n",
    "mnist.target = mnist.target[:1000]\n",
    "X_train, X_test, Y_train, Y_test = train_test_split(mnist.data, \n",
    "                    mnist.target, test_size=0.8, random_state=0)"
   ]
  },
  {
   "cell_type": "code",
   "execution_count": 22,
   "metadata": {
    "collapsed": false
   },
   "outputs": [],
   "source": [
    "from sklearn.neighbors import KNeighborsClassifier\n",
    "# KNN: K=10, default measure of distance (euclidean)\n",
    "clf = KNeighborsClassifier(3)\n",
    "clf.fit(X_train, Y_train)\n",
    "Y_pred = clf.predict(X_test)"
   ]
  },
  {
   "cell_type": "code",
   "execution_count": 23,
   "metadata": {
    "collapsed": false
   },
   "outputs": [
    {
     "name": "stdout",
     "output_type": "stream",
     "text": [
      "             precision    recall  f1-score   support\n",
      "\n",
      "        0.0       0.88      0.89      0.89        84\n",
      "        1.0       0.66      0.99      0.79        96\n",
      "        2.0       0.81      0.70      0.75        63\n",
      "        3.0       0.79      0.72      0.75        83\n",
      "        4.0       0.61      0.73      0.67        78\n",
      "        5.0       0.83      0.74      0.78        68\n",
      "        6.0       0.91      0.90      0.91        70\n",
      "        7.0       0.84      0.80      0.82        92\n",
      "        8.0       0.90      0.54      0.68        83\n",
      "        9.0       0.68      0.67      0.68        83\n",
      "\n",
      "avg / total       0.79      0.77      0.77       800\n",
      "\n"
     ]
    }
   ],
   "source": [
    "from sklearn.metrics import classification_report\n",
    "print (classification_report(Y_test, Y_pred))"
   ]
  },
  {
   "cell_type": "code",
   "execution_count": 24,
   "metadata": {
    "collapsed": false
   },
   "outputs": [
    {
     "name": "stdout",
     "output_type": "stream",
     "text": [
      "100 loops, best of 3: 1.66 ms per loop\n"
     ]
    }
   ],
   "source": [
    "%timeit clf.fit(X_train, Y_train)"
   ]
  },
  {
   "cell_type": "code",
   "execution_count": 25,
   "metadata": {
    "collapsed": false
   },
   "outputs": [
    {
     "name": "stdout",
     "output_type": "stream",
     "text": [
      "1 loop, best of 3: 192 ms per loop\n"
     ]
    }
   ],
   "source": [
    "%timeit clf.predict(X_test)"
   ]
  },
  {
   "cell_type": "markdown",
   "metadata": {},
   "source": [
    "## Advanced non linear algorithms"
   ]
  },
  {
   "cell_type": "markdown",
   "metadata": {},
   "source": [
    "### SVM for classification"
   ]
  },
  {
   "cell_type": "code",
   "execution_count": 26,
   "metadata": {
    "collapsed": false
   },
   "outputs": [],
   "source": [
    "from sklearn.datasets import load_svmlight_file\n",
    "X_train, y_train = load_svmlight_file('ijcnn1.bz2')\n",
    "first_rows = 2500\n",
    "X_train, y_train = X_train[:first_rows,:], y_train[:first_rows]"
   ]
  },
  {
   "cell_type": "code",
   "execution_count": 27,
   "metadata": {
    "collapsed": false
   },
   "outputs": [
    {
     "name": "stdout",
     "output_type": "stream",
     "text": [
      "SVC with rbf kernel -> cross validation accuracy: mean = 0.910 std = 0.001\n"
     ]
    }
   ],
   "source": [
    "import numpy as np\n",
    "from sklearn.cross_validation import cross_val_score\n",
    "from sklearn.svm import SVC\n",
    "hypothesis = SVC(kernel='rbf', random_state=101)\n",
    "scores = cross_val_score(hypothesis, X_train, y_train, cv=5, scoring='accuracy')\n",
    "print (\"SVC with rbf kernel -> cross validation accuracy: mean = %0.3f \\\n",
    "std = %0.3f\" % (np.mean(scores), np.std(scores)))"
   ]
  },
  {
   "cell_type": "code",
   "execution_count": 28,
   "metadata": {
    "collapsed": false
   },
   "outputs": [],
   "source": [
    "import pickle\n",
    "covertype_dataset = pickle.load(open( \"covertype_dataset.pickle\", \"rb\" ))\n",
    "covertype_X = covertype_dataset.data[:25000,:]\n",
    "covertype_y = covertype_dataset.target[:25000] -1 "
   ]
  },
  {
   "cell_type": "code",
   "execution_count": 29,
   "metadata": {
    "collapsed": false
   },
   "outputs": [
    {
     "name": "stdout",
     "output_type": "stream",
     "text": [
      "original dataset: (581012, 54)\n",
      "sub-sample: (25000, 54)\n",
      "target freq: [('Spruce/Fir', 9107), ('Lodgepole Pine', 12122), ('Ponderosa Pine', 1583), ('Cottonwood/Willow', 120), ('Aspen', 412), ('Douglas-fir', 779), ('Krummholz', 877)]\n"
     ]
    }
   ],
   "source": [
    "import numpy as np\n",
    "covertypes = ['Spruce/Fir', 'Lodgepole Pine', 'Ponderosa Pine', \n",
    "        'Cottonwood/Willow', 'Aspen', 'Douglas-fir', 'Krummholz']\n",
    "print ('original dataset:', covertype_dataset.data.shape)\n",
    "print ('sub-sample:', covertype_X.shape)\n",
    "print('target freq:', list(zip(covertypes,np.bincount(covertype_y))))"
   ]
  },
  {
   "cell_type": "code",
   "execution_count": 30,
   "metadata": {
    "collapsed": false
   },
   "outputs": [
    {
     "name": "stdout",
     "output_type": "stream",
     "text": [
      "LinearSVC -> cross validation accuracy: mean = 0.643 std = 0.027\n"
     ]
    }
   ],
   "source": [
    "from sklearn.cross_validation import cross_val_score, StratifiedKFold\n",
    "from sklearn.svm import LinearSVC\n",
    "hypothesis = LinearSVC(dual=False, class_weight='balanced')\n",
    "cv_strata = StratifiedKFold(covertype_y, n_folds=3, shuffle=True, random_state=101)\n",
    "scores = cross_val_score(hypothesis, covertype_X, covertype_y, cv=cv_strata, scoring='accuracy')\n",
    "print (\"LinearSVC -> cross validation accuracy: mean = %0.3f \\\n",
    "std = %0.3f\" % (np.mean(scores), np.std(scores)))"
   ]
  },
  {
   "cell_type": "markdown",
   "metadata": {},
   "source": [
    "### SVM for regression"
   ]
  },
  {
   "cell_type": "code",
   "execution_count": 31,
   "metadata": {
    "collapsed": false
   },
   "outputs": [],
   "source": [
    "import pickle\n",
    "X_train, y_train = pickle.load(open( \"cadata.pickle\", \"rb\" ))\n",
    "from sklearn.preprocessing import scale\n",
    "first_rows = 2000\n",
    "X_train = scale(X_train[:first_rows,:].toarray())\n",
    "y_train = y_train[:first_rows]/10**4.0"
   ]
  },
  {
   "cell_type": "code",
   "execution_count": 32,
   "metadata": {
    "collapsed": false
   },
   "outputs": [
    {
     "name": "stdout",
     "output_type": "stream",
     "text": [
      "SVR -> cross validation accuracy: mean = -4.618 std = 0.347\n"
     ]
    }
   ],
   "source": [
    "import numpy as np\n",
    "from sklearn.cross_validation import cross_val_score\n",
    "from sklearn.svm import SVR\n",
    "hypothesis = SVR()\n",
    "scores = cross_val_score(hypothesis, X_train, y_train, cv=3, \n",
    "                        scoring='mean_absolute_error')\n",
    "print (\"SVR -> cross validation accuracy: mean = %0.3f \\\n",
    "std = %0.3f\" % (np.mean(scores), np.std(scores)))"
   ]
  },
  {
   "cell_type": "markdown",
   "metadata": {},
   "source": [
    "### Tuning SVM"
   ]
  },
  {
   "cell_type": "code",
   "execution_count": 33,
   "metadata": {
    "collapsed": false
   },
   "outputs": [
    {
     "name": "stdout",
     "output_type": "stream",
     "text": [
      "Best parameters {'C': 100, 'gamma': 0.01}\n",
      "Cross validation accuracy: mean = 0.989\n"
     ]
    }
   ],
   "source": [
    "from sklearn.svm import SVC\n",
    "from sklearn.grid_search import RandomizedSearchCV\n",
    "X_train, y_train = load_svmlight_file('ijcnn1.bz2')\n",
    "first_rows = 2500\n",
    "X_train, y_train = X_train[:first_rows,:], y_train[:first_rows]\n",
    "hypothesis = SVC(kernel='rbf', random_state=101)\n",
    "search_dict = {'C': [0.01, 0.1, 1, 10, 100], \n",
    "               'gamma': [0.1, 0.01, 0.001, 0.0001]}\n",
    "search_func = RandomizedSearchCV(estimator=hypothesis, \n",
    "              param_distributions=search_dict, n_iter=10, scoring='accuracy',\n",
    "              n_jobs=-1, iid=True, refit=True, cv=5, random_state=101)\n",
    "search_func.fit(X_train, y_train)\n",
    "print ('Best parameters %s' % search_func.best_params_)\n",
    "print ('Cross validation accuracy: mean = %0.3f' % search_func.best_score_)"
   ]
  },
  {
   "cell_type": "markdown",
   "metadata": {},
   "source": [
    "## Ensemble strategies"
   ]
  },
  {
   "cell_type": "code",
   "execution_count": 34,
   "metadata": {
    "collapsed": false
   },
   "outputs": [
    {
     "name": "stdout",
     "output_type": "stream",
     "text": [
      "Forest covertype dataset.\n",
      "\n",
      "A classic dataset for classification benchmarks, featuring categorical and\n",
      "real-valued features.\n",
      "\n",
      "The dataset page is available from UCI Machine Learning Repository\n",
      "\n",
      "    http://archive.ics.uci.edu/ml/datasets/Covertype\n",
      "\n",
      "Courtesy of Jock A. Blackard and Colorado State University.\n",
      "\n"
     ]
    }
   ],
   "source": [
    "import pickle\n",
    "covertype_dataset = pickle.load(open( \"covertype_dataset.pickle\", \"rb\" ))\n",
    "print (covertype_dataset.DESCR)\n",
    "covertype_X = covertype_dataset.data[:15000,:]\n",
    "covertype_y = covertype_dataset.target[:15000]\n",
    "covertypes = ['Spruce/Fir', 'Lodgepole Pine', 'Ponderosa Pine', \n",
    "        'Cottonwood/Willow', 'Aspen', 'Douglas-fir', 'Krummholz']"
   ]
  },
  {
   "cell_type": "markdown",
   "metadata": {},
   "source": [
    "### Bagging with weak ensembles"
   ]
  },
  {
   "cell_type": "code",
   "execution_count": 35,
   "metadata": {
    "collapsed": false
   },
   "outputs": [
    {
     "name": "stdout",
     "output_type": "stream",
     "text": [
      "BaggingClassifier -> cross validation accuracy: mean = 0.795 std = 0.003\n"
     ]
    }
   ],
   "source": [
    "import numpy as np\n",
    "from sklearn.cross_validation import cross_val_score\n",
    "from sklearn.ensemble import BaggingClassifier\n",
    "from sklearn.neighbors import KNeighborsClassifier\n",
    "hypothesis = BaggingClassifier(KNeighborsClassifier(n_neighbors=1), \n",
    "            max_samples=0.7, max_features=0.7, n_estimators=100)\n",
    "scores = cross_val_score(hypothesis, covertype_X, covertype_y, cv=3, \n",
    "                         scoring='accuracy', n_jobs=-1)\n",
    "print (\"BaggingClassifier -> cross validation accuracy: mean = %0.3f \\\n",
    "std = %0.3f\" % (np.mean(scores), np.std(scores)))"
   ]
  },
  {
   "cell_type": "markdown",
   "metadata": {},
   "source": [
    "### Random Forests and Extra-Trees"
   ]
  },
  {
   "cell_type": "code",
   "execution_count": 36,
   "metadata": {
    "collapsed": true
   },
   "outputs": [],
   "source": [
    "import numpy as np\n",
    "from sklearn.cross_validation import cross_val_score\n",
    "from sklearn.ensemble import RandomForestClassifier\n",
    "from sklearn.ensemble import ExtraTreesClassifier"
   ]
  },
  {
   "cell_type": "code",
   "execution_count": 37,
   "metadata": {
    "collapsed": false
   },
   "outputs": [
    {
     "name": "stdout",
     "output_type": "stream",
     "text": [
      "RandomForestClassifier -> cross validation accuracy: mean = 0.809 std = 0.009\n",
      "CPU times: user 101 ms, sys: 59.6 ms, total: 161 ms\n",
      "Wall time: 2.35 s\n"
     ]
    }
   ],
   "source": [
    "%%time\n",
    "hypothesis = RandomForestClassifier(n_estimators=100, random_state=101)\n",
    "scores = cross_val_score(hypothesis, covertype_X, covertype_y, \n",
    "                         cv=3, scoring='accuracy', n_jobs=-1)\n",
    "print (\"RandomForestClassifier -> cross validation accuracy: mean = %0.3f \\\n",
    "std = %0.3f\" % (np.mean(scores), np.std(scores)))"
   ]
  },
  {
   "cell_type": "code",
   "execution_count": 38,
   "metadata": {
    "collapsed": false
   },
   "outputs": [
    {
     "name": "stdout",
     "output_type": "stream",
     "text": [
      "ExtraTreesClassifier -> cross validation accuracy: mean = 0.821 std = 0.009\n",
      "CPU times: user 105 ms, sys: 71.3 ms, total: 176 ms\n",
      "Wall time: 2.13 s\n"
     ]
    }
   ],
   "source": [
    "%%time\n",
    "hypothesis = ExtraTreesClassifier(n_estimators=100, random_state=101)\n",
    "scores = cross_val_score(hypothesis, covertype_X, covertype_y, cv=3, \n",
    "                         scoring='accuracy', n_jobs=-1)\n",
    "print (\"ExtraTreesClassifier -> cross validation accuracy: mean = %0.3f \\\n",
    "std = %0.3f\" % (np.mean(scores), np.std(scores)))"
   ]
  },
  {
   "cell_type": "code",
   "execution_count": 39,
   "metadata": {
    "collapsed": false
   },
   "outputs": [],
   "source": [
    "import pickle\n",
    "from sklearn.preprocessing import scale\n",
    "X_train, y_train = pickle.load(open( \"cadata.pickle\", \"rb\" ))\n",
    "first_rows = 2000"
   ]
  },
  {
   "cell_type": "code",
   "execution_count": 40,
   "metadata": {
    "collapsed": false
   },
   "outputs": [
    {
     "name": "stdout",
     "output_type": "stream",
     "text": [
      "RandomForestClassifier -> cross validation accuracy: mean = -4.642 std = 0.514\n"
     ]
    }
   ],
   "source": [
    "import numpy as np\n",
    "from sklearn.ensemble import RandomForestRegressor\n",
    "X_train = scale(X_train[:first_rows,:].toarray())\n",
    "y_train = y_train[:first_rows]/10**4.\n",
    "hypothesis = RandomForestRegressor(n_estimators=300, random_state=101)\n",
    "scores = cross_val_score(hypothesis, X_train, y_train, cv=3, \n",
    "                         scoring='mean_absolute_error', n_jobs=-1)\n",
    "print (\"RandomForestClassifier -> cross validation accuracy: mean = %0.3f \\\n",
    "std = %0.3f\" % (np.mean(scores), np.std(scores)))"
   ]
  },
  {
   "cell_type": "markdown",
   "metadata": {},
   "source": [
    "### Estimating probabilities from an ensemble"
   ]
  },
  {
   "cell_type": "code",
   "execution_count": 41,
   "metadata": {
    "collapsed": true
   },
   "outputs": [],
   "source": [
    "import pandas as pd\n",
    "import matplotlib.pyplot as plt\n",
    "from sklearn.calibration import CalibratedClassifierCV, calibration_curve\n",
    "hypothesis = RandomForestClassifier(n_estimators=100, random_state=101)\n",
    "calibration = CalibratedClassifierCV(hypothesis, method='sigmoid', cv=5)\n",
    "covertype_X = covertype_dataset.data[:15000,:]\n",
    "covertype_y = covertype_dataset.target[:15000]\n",
    "covertype_test_X = covertype_dataset.data[15000:25000,:]\n",
    "covertype_test_y = covertype_dataset.target[15000:25000]"
   ]
  },
  {
   "cell_type": "code",
   "execution_count": 42,
   "metadata": {
    "collapsed": false
   },
   "outputs": [],
   "source": [
    "hypothesis.fit(covertype_X,covertype_y)\n",
    "calibration.fit(covertype_X,covertype_y)\n",
    "prob_raw = hypothesis.predict_proba(covertype_test_X)\n",
    "prob_cal = calibration.predict_proba(covertype_test_X)"
   ]
  },
  {
   "cell_type": "code",
   "execution_count": 43,
   "metadata": {
    "collapsed": false
   },
   "outputs": [
    {
     "data": {
      "image/png": "[encoded data removed]",
      "text/plain": [
       "<matplotlib.figure.Figure at 0x11b047198>"
      ]
     },
     "metadata": {},
     "output_type": "display_data"
    }
   ],
   "source": [
    "%matplotlib inline\n",
    "tree_kind = covertypes.index('Ponderosa Pine')\n",
    "probs = pd.DataFrame(list(zip(prob_raw[:,tree_kind],prob_cal[:,tree_kind])), \n",
    "        columns=['raw','calibrted'])\n",
    "plot = probs.plot(kind='scatter', x=0, y=1, s=64, c='blue', edgecolors='white')"
   ]
  },
  {
   "cell_type": "markdown",
   "metadata": {},
   "source": [
    "### Sequences of models: Adaboost"
   ]
  },
  {
   "cell_type": "code",
   "execution_count": 44,
   "metadata": {
    "collapsed": false
   },
   "outputs": [
    {
     "name": "stdout",
     "output_type": "stream",
     "text": [
      "Adaboost -> cross validation accuracy: mean = 0.622 std = 0.006\n"
     ]
    }
   ],
   "source": [
    "import numpy as np\n",
    "from sklearn.ensemble import AdaBoostClassifier\n",
    "hypothesis = AdaBoostClassifier(n_estimators=300, random_state=101)\n",
    "scores = cross_val_score(hypothesis, covertype_X, covertype_y, cv=3, \n",
    "                         scoring='accuracy', n_jobs=-1)\n",
    "print (\"Adaboost -> cross validation accuracy: mean = %0.3f \\\n",
    "std = %0.3f\" % (np.mean(scores), np.std(scores)))"
   ]
  },
  {
   "cell_type": "markdown",
   "metadata": {},
   "source": [
    "### Gradient tree boosting (GTB)"
   ]
  },
  {
   "cell_type": "code",
   "execution_count": 45,
   "metadata": {
    "collapsed": false
   },
   "outputs": [],
   "source": [
    "import pickle\n",
    "covertype_dataset = pickle.load(open( \"covertype_dataset.pickle\", \"rb\" ))\n",
    "covertype_X = covertype_dataset.data[:15000,:]\n",
    "covertype_y = covertype_dataset.target[:15000] -1 \n",
    "covertype_val_X = covertype_dataset.data[15000:20000,:]\n",
    "covertype_val_y = covertype_dataset.target[15000:20000] -1\n",
    "covertype_test_X = covertype_dataset.data[20000:25000,:]\n",
    "covertype_test_y = covertype_dataset.target[20000:25000] -1"
   ]
  },
  {
   "cell_type": "code",
   "execution_count": 46,
   "metadata": {
    "collapsed": false
   },
   "outputs": [
    {
     "data": {
      "text/plain": [
       "GradientBoostingClassifier(init=None, learning_rate=0.1, loss='deviance',\n",
       "              max_depth=5, max_features=None, max_leaf_nodes=None,\n",
       "              min_samples_leaf=1, min_samples_split=2,\n",
       "              min_weight_fraction_leaf=0.0, n_estimators=50,\n",
       "              presort='auto', random_state=101, subsample=1.0, verbose=0,\n",
       "              warm_start=False)"
      ]
     },
     "execution_count": 46,
     "metadata": {},
     "output_type": "execute_result"
    }
   ],
   "source": [
    "import numpy as np\n",
    "from sklearn.cross_validation import cross_val_score, StratifiedKFold\n",
    "from sklearn.ensemble import GradientBoostingClassifier\n",
    "hypothesis = GradientBoostingClassifier(max_depth=5, \n",
    "                n_estimators=50, random_state=101)\n",
    "hypothesis.fit(covertype_X, covertype_y)\n",
    "#cv_strata = StratifiedKFold(y_train, n_folds=3, shuffle=True, random_state=101)\n",
    "#scores = cross_val_score(hypothesis, X_train, y_train, \n",
    "#                cv=cv_strata, scoring='accuracy', n_jobs=-1)\n",
    "#print (\"GradientBoostingClassifier -> cross validation accuracy: \\\n",
    "#mean = %0.3f std = %0.3f\" % (np.mean(scores), np.std(scores)))"
   ]
  },
  {
   "cell_type": "code",
   "execution_count": 47,
   "metadata": {
    "collapsed": false
   },
   "outputs": [
    {
     "name": "stdout",
     "output_type": "stream",
     "text": [
      "GradientBoostingClassifier -> test accuracy: 0.782\n"
     ]
    }
   ],
   "source": [
    "from sklearn.metrics import accuracy_score\n",
    "print ('GradientBoostingClassifier -> test accuracy:', \n",
    "       accuracy_score(covertype_test_y, hypothesis.predict(covertype_test_X)))"
   ]
  },
  {
   "cell_type": "markdown",
   "metadata": {
    "collapsed": true
   },
   "source": [
    "### XGBoost"
   ]
  },
  {
   "cell_type": "code",
   "execution_count": 48,
   "metadata": {
    "collapsed": false
   },
   "outputs": [],
   "source": [
    "from sklearn.datasets import load_svmlight_file\n",
    "from sklearn.cross_validation import cross_val_score, StratifiedKFold\n",
    "import pickle\n",
    "covertype_dataset = pickle.load(open( \"covertype_dataset.pickle\", \"rb\" ))\n",
    "covertype_dataset.target = covertype_dataset.target.astype(int)\n",
    "covertype_X = covertype_dataset.data[:15000,:]\n",
    "covertype_y = covertype_dataset.target[:15000] -1 \n",
    "covertype_val_X = covertype_dataset.data[15000:20000,:]\n",
    "covertype_val_y = covertype_dataset.target[15000:20000] -1\n",
    "covertype_test_X = covertype_dataset.data[20000:25000,:]\n",
    "covertype_test_y = covertype_dataset.target[20000:25000] -1"
   ]
  },
  {
   "cell_type": "code",
   "execution_count": 49,
   "metadata": {
    "collapsed": false
   },
   "outputs": [
    {
     "data": {
      "text/plain": [
       "XGBClassifier(base_score=0.5, colsample_bylevel=1, colsample_bytree=1,\n",
       "       gamma=0.1, learning_rate=0.01, max_delta_step=0, max_depth=24,\n",
       "       min_child_weight=1, missing=None, n_estimators=500, nthread=-1,\n",
       "       objective='multi:softprob', reg_alpha=0, reg_lambda=1,\n",
       "       scale_pos_weight=1, seed=0, silent=True, subsample=0.9)"
      ]
     },
     "execution_count": 49,
     "metadata": {},
     "output_type": "execute_result"
    }
   ],
   "source": [
    "import xgboost as xgb\n",
    "hypothesis = xgb.XGBClassifier(objective= \"multi:softprob\",\n",
    "    max_depth = 24, gamma=0.1, subsample = 0.90,\n",
    "    learning_rate=0.01, n_estimators = 500, nthread=-1)\n",
    "\n",
    "hypothesis.fit(covertype_X, covertype_y, eval_set=[(covertype_val_X, covertype_val_y)], \n",
    "               eval_metric='merror', early_stopping_rounds=25, verbose=False)"
   ]
  },
  {
   "cell_type": "code",
   "execution_count": 50,
   "metadata": {
    "collapsed": false
   },
   "outputs": [
    {
     "name": "stderr",
     "output_type": "stream",
     "text": [
      "/Library/Frameworks/Python.framework/Versions/3.5/lib/python3.5/site-packages/xgboost-0.4-py3.5.egg/xgboost/core.py:895: VisibleDeprecationWarning: using a non-integer number instead of an integer will result in an error in the future\n",
      "  preds = preds.reshape(nrow, preds.size / nrow)\n"
     ]
    },
    {
     "name": "stdout",
     "output_type": "stream",
     "text": [
      "accuracy: 0.8478\n",
      "[[1516  284    0    0    0    2   18]\n",
      " [ 219 2195   16    0    7   11    0]\n",
      " [   0   15  262    4    0   20    0]\n",
      " [   0    0    3   21    0    3    0]\n",
      " [   2   56    3    0   16    0    0]\n",
      " [   0   19   42    0    0   83    0]\n",
      " [  37    0    0    0    0    0  146]]\n"
     ]
    }
   ],
   "source": [
    "from sklearn.metrics import accuracy_score, confusion_matrix\n",
    "print ('accuracy:', accuracy_score(covertype_test_y, hypothesis.predict(covertype_test_X)))\n",
    "print (confusion_matrix(covertype_test_y, hypothesis.predict(covertype_test_X)))"
   ]
  },
  {
   "cell_type": "markdown",
   "metadata": {},
   "source": [
    "## Dealing with big data"
   ]
  },
  {
   "cell_type": "markdown",
   "metadata": {},
   "source": [
    "### Creating some big datasets as examples"
   ]
  },
  {
   "cell_type": "code",
   "execution_count": 51,
   "metadata": {
    "collapsed": false
   },
   "outputs": [
    {
     "name": "stdout",
     "output_type": "stream",
     "text": [
      "Posts inside the data: 11314\n",
      "Average number of words for post:206\n"
     ]
    }
   ],
   "source": [
    "import numpy as np\n",
    "import pickle\n",
    "newsgroups_dataset = pickle.load(open( \"newsgroups_dataset.pickle\", \"rb\" ))\n",
    "print ('Posts inside the data: %s' % np.shape(newsgroups_dataset.data))\n",
    "print ('Average number of words for post:\\\n",
    "%0.0f' % np.mean([len(text.split(' ')) for text in newsgroups_dataset.data]))"
   ]
  },
  {
   "cell_type": "code",
   "execution_count": 52,
   "metadata": {
    "collapsed": false
   },
   "outputs": [],
   "source": [
    "# Attention this may take a while\n",
    "from sklearn.datasets import make_classification\n",
    "X,y = make_classification(n_samples=10**5, n_features=5, \n",
    "                          n_informative=3, random_state=101)\n",
    "D = np.c_[y,X]\n",
    "np.savetxt('large_dataset_10__5.csv', D, delimiter=\",\") \n",
    "# the saved file should be around 14,6 MB\n",
    "del(D, X, y)\n",
    "X,y = make_classification(n_samples=10**6, n_features=5, \n",
    "                          n_informative=3, random_state=101)\n",
    "D = np.c_[y,X]\n",
    "np.savetxt('large_dataset_10__6.csv', D, delimiter=\",\") \n",
    "# the saved file should be around 146 MB\n",
    "del(D, X, y)\n",
    "X,y = make_classification(n_samples=10**7, n_features=5, \n",
    "                          n_informative=3, random_state=101)\n",
    "D = np.c_[y,X]\n",
    "np.savetxt('large_dataset_10__7.csv', D, delimiter=\",\") \n",
    "# the saved file should be around 1,46 GB\n",
    "del(D, X, y)"
   ]
  },
  {
   "cell_type": "markdown",
   "metadata": {},
   "source": [
    "### Scalability with volume"
   ]
  },
  {
   "cell_type": "code",
   "execution_count": 53,
   "metadata": {
    "collapsed": false
   },
   "outputs": [
    {
     "name": "stdout",
     "output_type": "stream",
     "text": [
      "Progressive validation mean accuracy 0.659\n"
     ]
    }
   ],
   "source": [
    "from sklearn.linear_model import SGDClassifier\n",
    "from sklearn.preprocessing import MinMaxScaler\n",
    "import pandas as pd\n",
    "streaming = pd.read_csv('large_dataset_10__7.csv', \n",
    "                        header=None, chunksize=10000)\n",
    "learner = SGDClassifier(loss='log')\n",
    "minmax_scaler = MinMaxScaler(feature_range=(0, 1))\n",
    "cumulative_accuracy = list()\n",
    "for n,chunk in enumerate(streaming):\n",
    "    if n == 0:\n",
    "            minmax_scaler.fit(chunk.ix[:,1:].values)\n",
    "    X = minmax_scaler.transform(chunk.ix[:,1:].values)\n",
    "    X[X>1] = 1\n",
    "    X[X<0] = 0  \n",
    "    y = chunk.ix[:,0]\n",
    "    if n > 8 :\n",
    "        cumulative_accuracy.append(learner.score(X,y))\n",
    "    learner.partial_fit(X,y,classes=np.unique(y))\n",
    "print ('Progressive validation mean accuracy \\\n",
    "%0.3f' % np.mean(cumulative_accuracy))"
   ]
  },
  {
   "cell_type": "markdown",
   "metadata": {},
   "source": [
    "## Keeping up with velocity"
   ]
  },
  {
   "cell_type": "code",
   "execution_count": 54,
   "metadata": {
    "collapsed": false
   },
   "outputs": [
    {
     "name": "stdout",
     "output_type": "stream",
     "text": [
      "PassiveAggressiveClassifier : mean accuracy 0.626 in 28.140352 secs\n",
      "BernoulliNB : mean accuracy 0.734 in 33.12771 secs\n",
      "SGDClassifier hinge loss : mean accuracy 0.713 in 25.495871 secs\n",
      "Perceptron : mean accuracy 0.618 in 25.314736 secs\n",
      "SGDClassifier log loss : mean accuracy 0.717 in 24.70777 secs\n"
     ]
    }
   ],
   "source": [
    "from sklearn.naive_bayes import MultinomialNB\n",
    "from sklearn.naive_bayes import BernoulliNB\n",
    "from sklearn.linear_model import Perceptron\n",
    "from sklearn.linear_model import SGDClassifier\n",
    "from sklearn.linear_model import PassiveAggressiveClassifier\n",
    "import pandas as pd\n",
    "from datetime import datetime\n",
    "classifiers  = {\n",
    "'SGDClassifier hinge loss' : SGDClassifier(loss='hinge', random_state=101),\n",
    "'SGDClassifier log loss' : SGDClassifier(loss='log', random_state=101),\n",
    "'Perceptron' : Perceptron(random_state=101),\n",
    "'BernoulliNB' : BernoulliNB(),\n",
    "'PassiveAggressiveClassifier' : PassiveAggressiveClassifier(random_state=101)\n",
    "}\n",
    "large_dataset = 'large_dataset_10__6.csv'\n",
    "for algorithm in classifiers:\n",
    "    start = datetime.now()\n",
    "    minmax_scaler = MinMaxScaler(feature_range=(0, 1))\n",
    "    streaming = pd.read_csv(large_dataset, header=None, chunksize=100)\n",
    "    learner = classifiers[algorithm]\n",
    "    cumulative_accuracy = list()\n",
    "    for n,chunk in enumerate(streaming):\n",
    "        y = chunk.ix[:,0]\n",
    "        X = chunk.ix[:,1:]\n",
    "        if n > 50 :\n",
    "            cumulative_accuracy.append(learner.score(X,y))\n",
    "        learner.partial_fit(X,y,classes=np.unique(y))\n",
    "    elapsed_time = datetime.now() - start\n",
    "    print (algorithm + ' : mean accuracy %0.3f in %s secs' \\\n",
    "    % (np.mean(cumulative_accuracy),elapsed_time.total_seconds()))"
   ]
  },
  {
   "cell_type": "markdown",
   "metadata": {},
   "source": [
    "### Dealing with variety"
   ]
  },
  {
   "cell_type": "code",
   "execution_count": 55,
   "metadata": {
    "collapsed": false
   },
   "outputs": [
    {
     "name": "stdout",
     "output_type": "stream",
     "text": [
      "Last validation score: 0.724\n"
     ]
    }
   ],
   "source": [
    "import pandas as pd\n",
    "from sklearn.linear_model import SGDClassifier\n",
    "from sklearn.feature_extraction.text import HashingVectorizer\n",
    "def streaming():\n",
    "    for response, item in zip(newsgroups_dataset.target, newsgroups_dataset.data):\n",
    "        yield response, item\n",
    "hashing_trick = HashingVectorizer(stop_words='english', norm = 'l2', non_negative=True)\n",
    "learner = SGDClassifier(random_state=101)\n",
    "texts = list()\n",
    "targets = list()\n",
    "for n,(target, text) in enumerate(streaming()):\n",
    "    texts.append(text)\n",
    "    targets.append(target)\n",
    "    if n % 1000 == 0 and n >0:\n",
    "        learning_chunk = hashing_trick.transform(texts)\n",
    "        if n > 1000:\n",
    "            last_validation_score = learner.score(learning_chunk, targets),\n",
    "        learner.partial_fit(learning_chunk, targets, classes=[k for k in range(20)])\n",
    "        texts, targets = list(), list()\n",
    "print ('Last validation score: %0.3f' % last_validation_score)"
   ]
  },
  {
   "cell_type": "code",
   "execution_count": 56,
   "metadata": {
    "collapsed": false
   },
   "outputs": [
    {
     "name": "stdout",
     "output_type": "stream",
     "text": [
      "(1, 1048576) <class 'scipy.sparse.csr.csr_matrix'>\n",
      "Predicted newsgroup: rec.autos\n"
     ]
    }
   ],
   "source": [
    "New_text = ['A 2014 red Toyota Prius v Five with fewer than 14K miles. Powered by a reliable 1.8L four cylinder hybrid engine that averages 44mpg in the city and 40mpg on the highway.']\n",
    "text_vector = hashing_trick.transform(New_text)\n",
    "print (np.shape(text_vector), type(text_vector))\n",
    "print ('Predicted newsgroup: %s' % newsgroups_dataset.target_names[learner.predict(text_vector)[0]])"
   ]
  },
  {
   "cell_type": "markdown",
   "metadata": {},
   "source": [
    "## A peek of NLP"
   ]
  },
  {
   "cell_type": "markdown",
   "metadata": {},
   "source": [
    "### Word tokenisation"
   ]
  },
  {
   "cell_type": "code",
   "execution_count": 57,
   "metadata": {
    "collapsed": false
   },
   "outputs": [
    {
     "name": "stdout",
     "output_type": "stream",
     "text": [
      "['The', 'sexy', 'job', 'in', 'the', 'next', '10', 'years', 'will', 'be', 'statisticians.', 'People', 'think', \"I'm\", 'joking,', 'but', 'who', \"would've\", 'guessed', 'that', 'computer', 'engineers', \"would've\", 'been', 'the', 'sexy', 'job', 'of', 'the', '1990s?']\n"
     ]
    }
   ],
   "source": [
    "my_text = \"The sexy job in the next 10 years will be statisticians. People think I'm joking, but who would've guessed that computer engineers would've been the sexy job of the 1990s?\"\n",
    "simple_tokens = my_text.split(' ')\n",
    "print (simple_tokens)"
   ]
  },
  {
   "cell_type": "markdown",
   "metadata": {},
   "source": [
    "Executing this or other nltk package calls, \n",
    "In case of an error saying: “Resource u'tokenizers/punkt/english.pickle' not found.”,\n",
    "just write on your console: nltk.download() \n",
    "and select to download everything or just to browse for the missing resource that triggered the warning."
   ]
  },
  {
   "cell_type": "code",
   "execution_count": 58,
   "metadata": {
    "collapsed": false
   },
   "outputs": [
    {
     "name": "stdout",
     "output_type": "stream",
     "text": [
      "['The', 'sexy', 'job', 'in', 'the', 'next', '10', 'years', 'will', 'be', 'statisticians', '.', 'People', 'think', 'I', \"'m\", 'joking', ',', 'but', 'who', 'would', \"'ve\", 'guessed', 'that', 'computer', 'engineers', 'would', \"'ve\", 'been', 'the', 'sexy', 'job', 'of', 'the', '1990s', '?']\n"
     ]
    }
   ],
   "source": [
    "import nltk\n",
    "nltk_tokens = nltk.word_tokenize(my_text)\n",
    "print (nltk_tokens)"
   ]
  },
  {
   "cell_type": "code",
   "execution_count": 59,
   "metadata": {
    "collapsed": false
   },
   "outputs": [
    {
     "data": {
      "text/plain": [
       "[':', 'I', 'looove', 'this', 'city', '!', '!', '!', '#love', '#foreverhere']"
      ]
     },
     "execution_count": 59,
     "metadata": {},
     "output_type": "execute_result"
    }
   ],
   "source": [
    "from nltk.tokenize import TweetTokenizer\n",
    "tt = TweetTokenizer(strip_handles=True, reduce_len=True)\n",
    "\n",
    "tweet = '@mate: I loooooooove this city!!!!!!! #love #foreverhere'\n",
    "tt.tokenize(tweet)"
   ]
  },
  {
   "cell_type": "markdown",
   "metadata": {},
   "source": [
    "### Stemming"
   ]
  },
  {
   "cell_type": "code",
   "execution_count": 60,
   "metadata": {
    "collapsed": false
   },
   "outputs": [
    {
     "name": "stdout",
     "output_type": "stream",
     "text": [
      "['the', 'sexy', 'job', 'in', 'the', 'next', '10', 'year', 'wil', 'be', 'stat', '.', 'peopl', 'think', 'i', \"'m\", 'jok', ',', 'but', 'who', 'would', \"'ve\", 'guess', 'that', 'comput', 'engin', 'would', \"'ve\", 'been', 'the', 'sexy', 'job', 'of', 'the', '1990s', '?']\n"
     ]
    }
   ],
   "source": [
    "from nltk.stem import *\n",
    "stemmer = LancasterStemmer()\n",
    "print ([stemmer.stem(word) for word in nltk_tokens])"
   ]
  },
  {
   "cell_type": "markdown",
   "metadata": {},
   "source": [
    "### Word Tagging"
   ]
  },
  {
   "cell_type": "code",
   "execution_count": 61,
   "metadata": {
    "collapsed": false
   },
   "outputs": [
    {
     "name": "stdout",
     "output_type": "stream",
     "text": [
      "[nltk_data] Downloading package averaged_perceptron_tagger to\n",
      "[nltk_data]     /Users/albertoboschetti/nltk_data...\n",
      "[nltk_data]   Package averaged_perceptron_tagger is already up-to-\n",
      "[nltk_data]       date!\n"
     ]
    },
    {
     "data": {
      "text/plain": [
       "True"
      ]
     },
     "execution_count": 61,
     "metadata": {},
     "output_type": "execute_result"
    }
   ],
   "source": [
    "nltk.download(\"averaged_perceptron_tagger\")"
   ]
  },
  {
   "cell_type": "code",
   "execution_count": 62,
   "metadata": {
    "collapsed": false
   },
   "outputs": [
    {
     "name": "stdout",
     "output_type": "stream",
     "text": [
      "[('The', 'DT'), ('sexy', 'JJ'), ('job', 'NN'), ('in', 'IN'), ('the', 'DT'), ('next', 'JJ'), ('10', 'CD'), ('years', 'NNS'), ('will', 'MD'), ('be', 'VB'), ('statisticians', 'NNS'), ('.', '.'), ('People', 'NNS'), ('think', 'VBP'), ('I', 'PRP'), (\"'m\", 'VBP'), ('joking', 'VBG'), (',', ','), ('but', 'CC'), ('who', 'WP'), ('would', 'MD'), (\"'ve\", 'VBP'), ('guessed', 'VBN'), ('that', 'IN'), ('computer', 'NN'), ('engineers', 'NNS'), ('would', 'MD'), (\"'ve\", 'VBP'), ('been', 'VBN'), ('the', 'DT'), ('sexy', 'JJ'), ('job', 'NN'), ('of', 'IN'), ('the', 'DT'), ('1990s', 'CD'), ('?', '.')]\n"
     ]
    }
   ],
   "source": [
    "print (nltk.pos_tag(nltk_tokens))"
   ]
  },
  {
   "cell_type": "markdown",
   "metadata": {},
   "source": [
    "### Named Entity Recognition"
   ]
  },
  {
   "cell_type": "code",
   "execution_count": 63,
   "metadata": {
    "collapsed": false
   },
   "outputs": [
    {
     "name": "stdout",
     "output_type": "stream",
     "text": [
      "(S\n",
      "  (PERSON Elvis/NNP)\n",
      "  (PERSON Aaron/NNP Presley/NNP)\n",
      "  was/VBD\n",
      "  an/DT\n",
      "  (GPE American/JJ)\n",
      "  singer/NN\n",
      "  and/CC\n",
      "  actor/NN\n",
      "  ./.\n",
      "  Born/VBN\n",
      "  in/IN\n",
      "  (GPE Tupelo/NNP)\n",
      "  ,/,\n",
      "  (GPE Mississippi/NNP)\n",
      "  ,/,\n",
      "  when/WRB\n",
      "  (PERSON Presley/NNP)\n",
      "  was/VBD\n",
      "  13/CD\n",
      "  years/NNS\n",
      "  old/JJ\n",
      "  he/PRP\n",
      "  and/CC\n",
      "  his/PRP$\n",
      "  family/NN\n",
      "  relocated/VBD\n",
      "  to/TO\n",
      "  (GPE Memphis/NNP)\n",
      "  ,/,\n",
      "  (GPE Tennessee/NNP)\n",
      "  ./.)\n"
     ]
    }
   ],
   "source": [
    "text = \"Elvis Aaron Presley was an American singer and actor. Born in Tupelo, Mississippi, when Presley was 13 years old he and his family relocated to Memphis, Tennessee.\"\n",
    "chunks = nltk.ne_chunk(nltk.pos_tag(nltk.word_tokenize(text)))\n",
    "print (chunks)"
   ]
  },
  {
   "cell_type": "markdown",
   "metadata": {},
   "source": [
    "### Stopwords"
   ]
  },
  {
   "cell_type": "code",
   "execution_count": 64,
   "metadata": {
    "collapsed": false
   },
   "outputs": [
    {
     "name": "stdout",
     "output_type": "stream",
     "text": [
      "frozenset({'towards', 'and', 'whatever', 'them', 'as', 'cannot', 'per', 'ever', 'might', 'am', 'by', 'that', 'themselves', 'been', 'should', 'thereupon', 'neither', 'seems', 'hasnt', 'into', 'myself', 'give', 'perhaps', 'formerly', 'whereafter', 'no', 'from', 'all', 'detail', 'sincere', 'onto', 'much', 'thereby', 'everyone', 'others', 'therefore', 'more', 'its', 'across', 'besides', 'she', 'enough', 'twelve', 'via', 'somewhere', 'bill', 'thick', 'yourself', 'becoming', 'each', 'yourselves', 'former', 'with', 'front', 'himself', 'fifteen', 'whenever', 'became', 'anything', 'call', 'those', 'within', 'beyond', 'too', 'everywhere', 'whole', 'also', 'done', 'move', 'become', 'up', 'whereupon', 'along', 'latter', 'anywhere', 'next', 'on', 'our', 'ltd', 'must', 'mostly', 'get', 'between', 'behind', 'do', 'made', 'here', 'keep', 'put', 'amount', 'since', 'you', 'something', 'when', 'thence', 'whereby', 'full', 'though', 'i', 'down', 'which', 'nowhere', 'nor', 'in', 're', 'amoungst', 'becomes', 'being', 'elsewhere', 'has', 'it', 'side', 'through', 'fill', 'had', 'both', 'con', 'me', 'please', 'again', 'cry', 'rather', 'sometimes', 'often', 'fify', 'than', 'go', 'whither', 'if', 'almost', 'afterwards', 'could', 'still', 'meanwhile', 'herself', 'he', 'ours', 'once', 'several', 'under', 'over', 'less', 'an', 'two', 'upon', 'five', 'further', 'many', 'ie', 'therein', 'noone', 'without', 'have', 'latterly', 'beside', 'of', 'twenty', 'cant', 'seem', 'thru', 'him', 'out', 'none', 'always', 'indeed', 'own', 'inc', 'off', 'nevertheless', 'or', 'whereas', 'hers', 'is', 'couldnt', 'yet', 'already', 'hereupon', 'third', 'part', 'so', 'for', 'back', 'eight', 'where', 'fire', 'itself', 'bottom', 'never', 'few', 'anyway', 'hereby', 'serious', 'who', 'they', 'while', 'now', 'whence', 'hence', 'a', 'anyhow', 'were', 'whoever', 'otherwise', 'we', 'well', 'mill', 'take', 'six', 'interest', 'else', 'empty', 'but', 'their', 'moreover', 'will', 'nothing', 'same', 'thereafter', 'name', 'everything', 'below', 'then', 'last', 'wherever', 'describe', 'ten', 'during', 'somehow', 'find', 'not', 'because', 'was', 'what', 'whom', 'three', 'mine', 'this', 'above', 'one', 'wherein', 'except', 'throughout', 'see', 'nine', 'etc', 'to', 'co', 'although', 'only', 'can', 'may', 'someone', 'however', 'your', 'my', 'toward', 'very', 'among', 'sometime', 'against', 'hereafter', 'hundred', 'due', 'either', 'ourselves', 'some', 'are', 'namely', 'most', 'the', 'any', 'forty', 'thus', 'whose', 'yours', 'around', 'alone', 'be', 'his', 'whether', 'amongst', 'at', 'herein', 'such', 'anyone', 'even', 'nobody', 'eleven', 'seeming', 'another', 'top', 'beforehand', 'eg', 'until', 'us', 'these', 'would', 'seemed', 'four', 'how', 'other', 'show', 'after', 'least', 'found', 'together', 'about', 'first', 'thin', 'un', 'there', 'system', 'her', 'every', 'why', 'before', 'de', 'sixty'})\n"
     ]
    }
   ],
   "source": [
    "from sklearn.feature_extraction import text\n",
    "stop_words = text.ENGLISH_STOP_WORDS\n",
    "print (stop_words)"
   ]
  },
  {
   "cell_type": "code",
   "execution_count": 65,
   "metadata": {
    "collapsed": false
   },
   "outputs": [
    {
     "name": "stdout",
     "output_type": "stream",
     "text": [
      "['i', 'me', 'my', 'myself', 'we', 'our', 'ours', 'ourselves', 'you', 'your', 'yours', 'yourself', 'yourselves', 'he', 'him', 'his', 'himself', 'she', 'her', 'hers', 'herself', 'it', 'its', 'itself', 'they', 'them', 'their', 'theirs', 'themselves', 'what', 'which', 'who', 'whom', 'this', 'that', 'these', 'those', 'am', 'is', 'are', 'was', 'were', 'be', 'been', 'being', 'have', 'has', 'had', 'having', 'do', 'does', 'did', 'doing', 'a', 'an', 'the', 'and', 'but', 'if', 'or', 'because', 'as', 'until', 'while', 'of', 'at', 'by', 'for', 'with', 'about', 'against', 'between', 'into', 'through', 'during', 'before', 'after', 'above', 'below', 'to', 'from', 'up', 'down', 'in', 'out', 'on', 'off', 'over', 'under', 'again', 'further', 'then', 'once', 'here', 'there', 'when', 'where', 'why', 'how', 'all', 'any', 'both', 'each', 'few', 'more', 'most', 'other', 'some', 'such', 'no', 'nor', 'not', 'only', 'own', 'same', 'so', 'than', 'too', 'very', 's', 't', 'can', 'will', 'just', 'don', 'should', 'now', 'd', 'll', 'm', 'o', 're', 've', 'y', 'ain', 'aren', 'couldn', 'didn', 'doesn', 'hadn', 'hasn', 'haven', 'isn', 'ma', 'mightn', 'mustn', 'needn', 'shan', 'shouldn', 'wasn', 'weren', 'won', 'wouldn']\n"
     ]
    }
   ],
   "source": [
    "from nltk.corpus import stopwords\n",
    "print(stopwords.words('english'))"
   ]
  },
  {
   "cell_type": "code",
   "execution_count": 66,
   "metadata": {
    "collapsed": false
   },
   "outputs": [
    {
     "name": "stdout",
     "output_type": "stream",
     "text": [
      "['aber', 'alle', 'allem', 'allen', 'aller', 'alles', 'als', 'also', 'am', 'an', 'ander', 'andere', 'anderem', 'anderen', 'anderer', 'anderes', 'anderm', 'andern', 'anderr', 'anders', 'auch', 'auf', 'aus', 'bei', 'bin', 'bis', 'bist', 'da', 'damit', 'dann', 'der', 'den', 'des', 'dem', 'die', 'das', 'daß', 'derselbe', 'derselben', 'denselben', 'desselben', 'demselben', 'dieselbe', 'dieselben', 'dasselbe', 'dazu', 'dein', 'deine', 'deinem', 'deinen', 'deiner', 'deines', 'denn', 'derer', 'dessen', 'dich', 'dir', 'du', 'dies', 'diese', 'diesem', 'diesen', 'dieser', 'dieses', 'doch', 'dort', 'durch', 'ein', 'eine', 'einem', 'einen', 'einer', 'eines', 'einig', 'einige', 'einigem', 'einigen', 'einiger', 'einiges', 'einmal', 'er', 'ihn', 'ihm', 'es', 'etwas', 'euer', 'eure', 'eurem', 'euren', 'eurer', 'eures', 'für', 'gegen', 'gewesen', 'hab', 'habe', 'haben', 'hat', 'hatte', 'hatten', 'hier', 'hin', 'hinter', 'ich', 'mich', 'mir', 'ihr', 'ihre', 'ihrem', 'ihren', 'ihrer', 'ihres', 'euch', 'im', 'in', 'indem', 'ins', 'ist', 'jede', 'jedem', 'jeden', 'jeder', 'jedes', 'jene', 'jenem', 'jenen', 'jener', 'jenes', 'jetzt', 'kann', 'kein', 'keine', 'keinem', 'keinen', 'keiner', 'keines', 'können', 'könnte', 'machen', 'man', 'manche', 'manchem', 'manchen', 'mancher', 'manches', 'mein', 'meine', 'meinem', 'meinen', 'meiner', 'meines', 'mit', 'muss', 'musste', 'nach', 'nicht', 'nichts', 'noch', 'nun', 'nur', 'ob', 'oder', 'ohne', 'sehr', 'sein', 'seine', 'seinem', 'seinen', 'seiner', 'seines', 'selbst', 'sich', 'sie', 'ihnen', 'sind', 'so', 'solche', 'solchem', 'solchen', 'solcher', 'solches', 'soll', 'sollte', 'sondern', 'sonst', 'über', 'um', 'und', 'uns', 'unse', 'unsem', 'unsen', 'unser', 'unses', 'unter', 'viel', 'vom', 'von', 'vor', 'während', 'war', 'waren', 'warst', 'was', 'weg', 'weil', 'weiter', 'welche', 'welchem', 'welchen', 'welcher', 'welches', 'wenn', 'werde', 'werden', 'wie', 'wieder', 'will', 'wir', 'wird', 'wirst', 'wo', 'wollen', 'wollte', 'würde', 'würden', 'zu', 'zum', 'zur', 'zwar', 'zwischen']\n"
     ]
    }
   ],
   "source": [
    "print(stopwords.words('german'))"
   ]
  },
  {
   "cell_type": "markdown",
   "metadata": {},
   "source": [
    "### A complete data science example: text classification"
   ]
  },
  {
   "cell_type": "code",
   "execution_count": 67,
   "metadata": {
    "collapsed": false
   },
   "outputs": [],
   "source": [
    "from sklearn.datasets import fetch_20newsgroups\n",
    "from sklearn.feature_extraction.text import TfidfVectorizer\n",
    "from sklearn.linear_model import SGDClassifier\n",
    "from sklearn.metrics import accuracy_score\n",
    "from sklearn.datasets import fetch_20newsgroups\n",
    "categories = ['sci.med', 'sci.space']\n",
    "to_remove = ('headers', 'footers', 'quotes')\n",
    "twenty_sci_news_train = fetch_20newsgroups(subset='train', remove=to_remove, categories=categories)\n",
    "twenty_sci_news_test = fetch_20newsgroups(subset='test', remove=to_remove, categories=categories)"
   ]
  },
  {
   "cell_type": "code",
   "execution_count": 68,
   "metadata": {
    "collapsed": false
   },
   "outputs": [],
   "source": [
    "tf_vect = TfidfVectorizer()\n",
    "X_train = tf_vect.fit_transform(twenty_sci_news_train.data)\n",
    "X_test = tf_vect.transform(twenty_sci_news_test.data)\n",
    "Y_train = twenty_sci_news_train.target\n",
    "Y_test = twenty_sci_news_test.target"
   ]
  },
  {
   "cell_type": "code",
   "execution_count": 69,
   "metadata": {
    "collapsed": false
   },
   "outputs": [
    {
     "name": "stdout",
     "output_type": "stream",
     "text": [
      "Accuracy= 0.882278481013\n"
     ]
    }
   ],
   "source": [
    "clf = SGDClassifier()\n",
    "clf.fit(X_train, Y_train)\n",
    "Y_pred = clf.predict(X_test)\n",
    "print (\"Accuracy=\", accuracy_score(Y_test, Y_pred))"
   ]
  },
  {
   "cell_type": "code",
   "execution_count": 70,
   "metadata": {
    "collapsed": false
   },
   "outputs": [],
   "source": [
    "def clean_and_stem_text(text):\n",
    "    tokens = nltk.word_tokenize(text.lower())\n",
    "    clean_tokens = [word for word in tokens if word not in stop_words]\n",
    "    stem_tokens = [stemmer.stem(token) for token in clean_tokens]\n",
    "    return \" \".join(stem_tokens)\n",
    "cleaned_docs_train = [clean_and_stem_text(text) for text in twenty_sci_news_train.data]\n",
    "cleaned_docs_test = [clean_and_stem_text(text) for text in twenty_sci_news_test.data]"
   ]
  },
  {
   "cell_type": "code",
   "execution_count": 71,
   "metadata": {
    "collapsed": false
   },
   "outputs": [
    {
     "name": "stdout",
     "output_type": "stream",
     "text": [
      "Accuracy= 0.874683544304\n"
     ]
    }
   ],
   "source": [
    "X1_train = tf_vect.fit_transform(cleaned_docs_train)\n",
    "X1_test = tf_vect.transform(cleaned_docs_test)\n",
    "clf.fit(X1_train, Y_train)\n",
    "Y1_pred = clf.predict(X1_test)\n",
    "print (\"Accuracy=\", accuracy_score(Y_test, Y1_pred))"
   ]
  },
  {
   "cell_type": "markdown",
   "metadata": {},
   "source": [
    "## An overview of unsupervised learning"
   ]
  },
  {
   "cell_type": "code",
   "execution_count": 72,
   "metadata": {
    "collapsed": true
   },
   "outputs": [],
   "source": [
    "%matplotlib inline"
   ]
  },
  {
   "cell_type": "code",
   "execution_count": 73,
   "metadata": {
    "collapsed": false
   },
   "outputs": [],
   "source": [
    "import numpy as np\n",
    "import matplotlib.pyplot as plt\n",
    "from sklearn import datasets"
   ]
  },
  {
   "cell_type": "code",
   "execution_count": 74,
   "metadata": {
    "collapsed": false
   },
   "outputs": [],
   "source": [
    "N_samples = 2000\n",
    "dataset_1 = np.array(datasets.make_circles(n_samples=N_samples, noise=0.05, factor=0.3)[0])\n",
    "dataset_2 = np.array(datasets.make_blobs(n_samples=N_samples, centers=4, cluster_std=0.4, random_state=0)[0])"
   ]
  },
  {
   "cell_type": "code",
   "execution_count": 75,
   "metadata": {
    "collapsed": false
   },
   "outputs": [
    {
     "data": {
      "image/png": "[encoded data removed]",
      "text/plain": [
       "<matplotlib.figure.Figure at 0x13aae6a58>"
      ]
     },
     "metadata": {},
     "output_type": "display_data"
    }
   ],
   "source": [
    "plt.scatter(dataset_1[:,0], dataset_1[:,1], c='blue', alpha=0.8, s=64, edgecolors='white')\n",
    "plt.show()"
   ]
  },
  {
   "cell_type": "code",
   "execution_count": 76,
   "metadata": {
    "collapsed": false
   },
   "outputs": [
    {
     "data": {
      "image/png": "[encoded data removed]",
      "text/plain": [
       "<matplotlib.figure.Figure at 0x13aaa5dd8>"
      ]
     },
     "metadata": {},
     "output_type": "display_data"
    }
   ],
   "source": [
    "plt.scatter(dataset_2[:,0], dataset_2[:,1], alpha=0.8, s=64, c='blue', edgecolors='white')\n",
    "plt.show()"
   ]
  },
  {
   "cell_type": "code",
   "execution_count": 77,
   "metadata": {
    "collapsed": false
   },
   "outputs": [],
   "source": [
    "from sklearn.cluster import KMeans\n",
    "K_dataset_1 = 2\n",
    "km_1 = KMeans(n_clusters=K_dataset_1)\n",
    "labels_1 = km_1.fit(dataset_1).labels_"
   ]
  },
  {
   "cell_type": "code",
   "execution_count": 78,
   "metadata": {
    "collapsed": false
   },
   "outputs": [
    {
     "data": {
      "image/png": "[encoded data removed]",
      "text/plain": [
       "<matplotlib.figure.Figure at 0x150631198>"
      ]
     },
     "metadata": {},
     "output_type": "display_data"
    }
   ],
   "source": [
    "plt.scatter(dataset_1[:,0], dataset_1[:,1], c=labels_1, alpha=0.8, s=64, edgecolors='white')\n",
    "plt.scatter(km_1.cluster_centers_[:,0], km_1.cluster_centers_[:,1], s=200, c=np.unique(labels_1), edgecolors='black')\n",
    "plt.show()"
   ]
  },
  {
   "cell_type": "code",
   "execution_count": 79,
   "metadata": {
    "collapsed": false
   },
   "outputs": [],
   "source": [
    "K_dataset_2 = 4\n",
    "km_2 = KMeans(n_clusters=K_dataset_2)\n",
    "labels_2 = km_2.fit(dataset_2).labels_"
   ]
  },
  {
   "cell_type": "code",
   "execution_count": 80,
   "metadata": {
    "collapsed": false
   },
   "outputs": [
    {
     "data": {
      "image/png": "[encoded data removed]",
      "text/plain": [
       "<matplotlib.figure.Figure at 0x15064e7f0>"
      ]
     },
     "metadata": {},
     "output_type": "display_data"
    }
   ],
   "source": [
    "plt.scatter(dataset_2[:,0], dataset_2[:,1], c=labels_2, alpha=0.8, s=64, edgecolors='white')\n",
    "plt.scatter(km_2.cluster_centers_[:,0], km_2.cluster_centers_[:,1], marker='s', s=100, c=np.unique(labels_2), edgecolors='black')\n",
    "plt.show()"
   ]
  },
  {
   "cell_type": "code",
   "execution_count": 81,
   "metadata": {
    "collapsed": false
   },
   "outputs": [],
   "source": [
    "from sklearn.cluster import DBSCAN\n",
    "dbs_1 = DBSCAN(eps=0.4)\n",
    "labels_1 = dbs_1.fit(dataset_1).labels_"
   ]
  },
  {
   "cell_type": "code",
   "execution_count": 82,
   "metadata": {
    "collapsed": false
   },
   "outputs": [
    {
     "data": {
      "image/png": "[encoded data removed]",
      "text/plain": [
       "<matplotlib.figure.Figure at 0x13ce03b70>"
      ]
     },
     "metadata": {},
     "output_type": "display_data"
    }
   ],
   "source": [
    "plt.scatter(dataset_1[:,0], dataset_1[:,1], c=labels_1, alpha=0.8, s=64, edgecolors='white')\n",
    "plt.show()"
   ]
  },
  {
   "cell_type": "code",
   "execution_count": 83,
   "metadata": {
    "collapsed": false
   },
   "outputs": [
    {
     "data": {
      "text/plain": [
       "array([0, 1])"
      ]
     },
     "execution_count": 83,
     "metadata": {},
     "output_type": "execute_result"
    }
   ],
   "source": [
    "np.unique(labels_1)"
   ]
  },
  {
   "cell_type": "code",
   "execution_count": 84,
   "metadata": {
    "collapsed": false
   },
   "outputs": [],
   "source": [
    "dbs_2 = DBSCAN(eps=0.5)\n",
    "labels_2 = dbs_2.fit(dataset_2).labels_"
   ]
  },
  {
   "cell_type": "code",
   "execution_count": 85,
   "metadata": {
    "collapsed": false
   },
   "outputs": [
    {
     "data": {
      "image/png": "[encoded data removed]",
      "text/plain": [
       "<matplotlib.figure.Figure at 0x150706c50>"
      ]
     },
     "metadata": {},
     "output_type": "display_data"
    }
   ],
   "source": [
    "plt.scatter(dataset_2[:,0], dataset_2[:,1], c=labels_2, alpha=0.8, s=64, edgecolors='white')\n",
    "plt.show()"
   ]
  },
  {
   "cell_type": "code",
   "execution_count": 86,
   "metadata": {
    "collapsed": false
   },
   "outputs": [
    {
     "data": {
      "text/plain": [
       "array([-1,  0,  1,  2,  3])"
      ]
     },
     "execution_count": 86,
     "metadata": {},
     "output_type": "execute_result"
    }
   ],
   "source": [
    "np.unique(labels_2)"
   ]
  },
  {
   "cell_type": "markdown",
   "metadata": {},
   "source": [
    "## LDA"
   ]
  },
  {
   "cell_type": "code",
   "execution_count": 87,
   "metadata": {
    "collapsed": false
   },
   "outputs": [
    {
     "name": "stdout",
     "output_type": "stream",
     "text": [
      "Document count: 1188\n"
     ]
    }
   ],
   "source": [
    "import nltk\n",
    "import gensim\n",
    "from sklearn.datasets import fetch_20newsgroups\n",
    "\n",
    "def tokenize(text):\n",
    "    return [token.lower() for token in gensim.utils.simple_preprocess(text) \n",
    "            if token not in gensim.parsing.preprocessing.STOPWORDS]\n",
    "\n",
    "text_dataset = fetch_20newsgroups(categories=['rec.autos', \n",
    "                                              'sci.med'], \n",
    "                                  random_state=101,\n",
    "                                  remove=('headers', 'footers', \n",
    "                                          'quotes'))\n",
    "\n",
    "\n",
    "documents = text_dataset.data\n",
    "print(\"Document count:\", len(documents))"
   ]
  },
  {
   "cell_type": "code",
   "execution_count": 88,
   "metadata": {
    "collapsed": false
   },
   "outputs": [
    {
     "data": {
      "text/plain": [
       "'\\nI have a new doctor who gave me a prescription today for something called \\nSeptra DS.  He said it may cause GI problems and I have a sensitive stomach \\nto begin with.  Anybody ever taken this antibiotic.  Any good?  Suggestions \\nfor avoiding an upset stomach?  Other tips?\\n'"
      ]
     },
     "execution_count": 88,
     "metadata": {},
     "output_type": "execute_result"
    }
   ],
   "source": [
    "documents[0]"
   ]
  },
  {
   "cell_type": "code",
   "execution_count": 89,
   "metadata": {
    "collapsed": false
   },
   "outputs": [
    {
     "name": "stdout",
     "output_type": "stream",
     "text": [
      "Num tokens: 16161\n"
     ]
    }
   ],
   "source": [
    "processed_docs = [tokenize(doc) for doc in documents]\n",
    "word_dic = gensim.corpora.Dictionary(processed_docs)\n",
    "print(\"Num tokens:\", len(word_dic))"
   ]
  },
  {
   "cell_type": "code",
   "execution_count": 90,
   "metadata": {
    "collapsed": true
   },
   "outputs": [],
   "source": [
    "word_dic.filter_extremes(no_below=10, no_above=0.2)\n",
    "bow = [word_dic.doc2bow(doc) for doc in processed_docs]"
   ]
  },
  {
   "cell_type": "code",
   "execution_count": 91,
   "metadata": {
    "collapsed": true
   },
   "outputs": [],
   "source": [
    "lda_model = gensim.models.LdaMulticore(bow, num_topics=2, \n",
    "                                       id2word=word_dic, passes=10, \n",
    "                                       iterations=500)"
   ]
  },
  {
   "cell_type": "code",
   "execution_count": 92,
   "metadata": {
    "collapsed": false
   },
   "outputs": [
    {
     "data": {
      "text/plain": [
       "[(0,\n",
       "  '0.019*car + 0.012*edu + 0.010*com + 0.008*think + 0.008*cars + 0.007*good + 0.007*time + 0.005*new + 0.005*ve + 0.005*right'),\n",
       " (1,\n",
       "  '0.009*health + 0.009*medical + 0.008*use + 0.007*people + 0.007*patients + 0.006*new + 0.006*disease + 0.006*information + 0.005*cancer + 0.005*research')]"
      ]
     },
     "execution_count": 92,
     "metadata": {},
     "output_type": "execute_result"
    }
   ],
   "source": [
    "lda_model.print_topics(-1)"
   ]
  },
  {
   "cell_type": "code",
   "execution_count": 93,
   "metadata": {
    "collapsed": false
   },
   "outputs": [
    {
     "name": "stdout",
     "output_type": "stream",
     "text": [
      "Score: 0.6376314287727028\t Topic: 0.019*car + 0.012*edu + 0.010*com + 0.008*think + 0.008*cars\n",
      "Score: 0.36236857122729715\t Topic: 0.009*health + 0.009*medical + 0.008*use + 0.007*people + 0.007*patients\n"
     ]
    }
   ],
   "source": [
    "new_doc = \"I've shown the doctor my new car. He loved its big wheels!\"\n",
    "\n",
    "bow_doc = word_dic.doc2bow(tokenize(new_doc))\n",
    "for index, score in sorted(lda_model[bow_doc], key=lambda tup: -1*tup[1]):\n",
    "    print(\"Score: {}\\t Topic: {}\".format(score, lda_model.print_topic(index, 5)))"
   ]
  },
  {
   "cell_type": "markdown",
   "metadata": {
    "collapsed": true
   },
   "source": [
    "# Word2Vec"
   ]
  },
  {
   "cell_type": "code",
   "execution_count": 97,
   "metadata": {
    "collapsed": false
   },
   "outputs": [],
   "source": [
    "from nltk.corpus import movie_reviews\n",
    "from gensim.models import Word2Vec\n",
    "w2v = Word2Vec(movie_reviews.sents(), workers=4)\n",
    "w2v.init_sims(replace=True)"
   ]
  },
  {
   "cell_type": "code",
   "execution_count": 98,
   "metadata": {
    "collapsed": false
   },
   "outputs": [
    {
     "data": {
      "text/plain": [
       "[('apartment', 0.8831527829170227),\n",
       " ('hotel', 0.8737257122993469),\n",
       " ('body', 0.8611801862716675),\n",
       " ('station', 0.8509902954101562),\n",
       " ('head', 0.8504363298416138)]"
      ]
     },
     "execution_count": 98,
     "metadata": {},
     "output_type": "execute_result"
    }
   ],
   "source": [
    "w2v.most_similar('house', topn=5)"
   ]
  },
  {
   "cell_type": "code",
   "execution_count": 99,
   "metadata": {
    "collapsed": false
   },
   "outputs": [
    {
     "data": {
      "text/plain": [
       "[('mining', 0.9546828269958496),\n",
       " ('marches', 0.950577974319458),\n",
       " ('rural', 0.9471129179000854),\n",
       " ('orchestra', 0.9443991780281067),\n",
       " ('motorcycle', 0.9441686868667603)]"
      ]
     },
     "execution_count": 99,
     "metadata": {},
     "output_type": "execute_result"
    }
   ],
   "source": [
    "w2v.most_similar('countryside', topn=5)"
   ]
  },
  {
   "cell_type": "code",
   "execution_count": 100,
   "metadata": {
    "collapsed": false
   },
   "outputs": [
    {
     "data": {
      "text/plain": [
       "array([-0.12414961, -0.20663142, -0.0637572 ,  0.08406515,  0.0902336 ,\n",
       "        0.23286617,  0.09211355, -0.07603945,  0.04476548,  0.01794502,\n",
       "        0.06844661, -0.13914309, -0.03705182,  0.14421104, -0.0570906 ,\n",
       "        0.09245268, -0.21203159, -0.12562387,  0.17030986, -0.16693436,\n",
       "        0.14358826, -0.06266391, -0.05617592, -0.09938487, -0.13876252,\n",
       "       -0.06806725, -0.23107462,  0.14169946,  0.13969606, -0.22037418,\n",
       "        0.0472086 , -0.0376199 ,  0.02803483, -0.0059187 ,  0.05261694,\n",
       "        0.09274784,  0.10435621,  0.10864915,  0.12094999,  0.01886856,\n",
       "       -0.15891945,  0.09160983, -0.0793556 ,  0.06418026, -0.09122588,\n",
       "        0.11396598, -0.0657774 , -0.09831911,  0.00101431, -0.01701732,\n",
       "        0.05787782, -0.04111823, -0.0595096 ,  0.05278153,  0.00762644,\n",
       "        0.04949786, -0.02053034, -0.0934052 , -0.14712527, -0.02817977,\n",
       "       -0.06668159, -0.05495642,  0.03549926, -0.04800608, -0.20258372,\n",
       "       -0.00119116,  0.00458586,  0.02823877,  0.13043888,  0.00482561,\n",
       "        0.00177382,  0.04848058, -0.08773124, -0.00733098,  0.03294684,\n",
       "       -0.02826036,  0.03696746,  0.02928289, -0.04158957,  0.05156258,\n",
       "       -0.00536134,  0.19791542, -0.20407143, -0.15113351,  0.09493683,\n",
       "        0.07635648, -0.09732895, -0.02835378,  0.02640294,  0.01435848,\n",
       "       -0.07077446, -0.00073584, -0.11380631,  0.11039653, -0.12782191,\n",
       "       -0.04110597,  0.0429786 ,  0.15830056, -0.01333908, -0.0317463 ], dtype=float32)"
      ]
     },
     "execution_count": 100,
     "metadata": {},
     "output_type": "execute_result"
    }
   ],
   "source": [
    "w2v['countryside']"
   ]
  },
  {
   "cell_type": "code",
   "execution_count": 101,
   "metadata": {
    "collapsed": false
   },
   "outputs": [
    {
     "data": {
      "text/plain": [
       "[('man', 0.8432931900024414),\n",
       " ('child', 0.7735153436660767),\n",
       " ('girl', 0.7637112736701965)]"
      ]
     },
     "execution_count": 101,
     "metadata": {},
     "output_type": "execute_result"
    }
   ],
   "source": [
    "w2v.most_similar(positive=['woman', 'king'], negative=['queen'], topn=3)"
   ]
  },
  {
   "cell_type": "code",
   "execution_count": 102,
   "metadata": {
    "collapsed": false
   },
   "outputs": [
    {
     "data": {
      "text/plain": [
       "'cake'"
      ]
     },
     "execution_count": 102,
     "metadata": {},
     "output_type": "execute_result"
    }
   ],
   "source": [
    "w2v.doesnt_match(['bed', 'pillow', 'cake', 'mattress'])"
   ]
  },
  {
   "cell_type": "code",
   "execution_count": 103,
   "metadata": {
    "collapsed": false
   },
   "outputs": [
    {
     "data": {
      "text/plain": [
       "(0.90031940162423985, 0.82772075417219759)"
      ]
     },
     "execution_count": 103,
     "metadata": {},
     "output_type": "execute_result"
    }
   ],
   "source": [
    "w2v.similarity('woman', 'girl'), w2v.similarity('woman', 'boy')"
   ]
  },
  {
   "cell_type": "code",
   "execution_count": null,
   "metadata": {
    "collapsed": true
   },
   "outputs": [],
   "source": []
  }
 ],
 "metadata": {
  "kernelspec": {
   "display_name": "Python 3",
   "language": "python",
   "name": "python3"
  },
  "language_info": {
   "codemirror_mode": {
    "name": "ipython",
    "version": 3
   },
   "file_extension": ".py",
   "mimetype": "text/x-python",
   "name": "python",
   "nbconvert_exporter": "python",
   "pygments_lexer": "ipython3",
   "version": "3.5.1"
  }
 },
 "nbformat": 4,
 "nbformat_minor": 0
}
