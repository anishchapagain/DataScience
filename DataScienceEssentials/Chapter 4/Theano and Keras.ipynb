{
 "cells": [
  {
   "cell_type": "code",
   "execution_count": 14,
   "metadata": {
    "collapsed": false,
    "scrolled": false
   },
   "outputs": [],
   "source": [
    "from keras.models import Sequential\n",
    "from keras.layers import Dense, Dropout, Flatten\n",
    "from keras.layers.convolutional import Convolution2D, MaxPooling2D\n",
    "from keras.utils import np_utils\n",
    "import numpy as np\n"
   ]
  },
  {
   "cell_type": "code",
   "execution_count": 15,
   "metadata": {
    "collapsed": false
   },
   "outputs": [],
   "source": [
    "from keras.datasets import mnist\n",
    "(X_train, y_train), (X_test, y_test) = mnist.load_data()"
   ]
  },
  {
   "cell_type": "code",
   "execution_count": 16,
   "metadata": {
    "collapsed": false
   },
   "outputs": [
    {
     "data": {
      "text/plain": [
       "(60000, 28, 28)"
      ]
     },
     "execution_count": 16,
     "metadata": {},
     "output_type": "execute_result"
    }
   ],
   "source": [
    "X_train.shape"
   ]
  },
  {
   "cell_type": "code",
   "execution_count": 17,
   "metadata": {
    "collapsed": false
   },
   "outputs": [],
   "source": [
    "num_pixels = X_train.shape[1] * X_train.shape[2]\n",
    "n_channels = 1\n",
    "def preprocess(matrix):\n",
    "    return matrix.reshape(matrix.shape[0], \\\n",
    "                          n_channels, \\\n",
    "                          matrix.shape[1], \\\n",
    "                          matrix.shape[2]\n",
    "                         ).astype('float32') / 255."
   ]
  },
  {
   "cell_type": "code",
   "execution_count": 18,
   "metadata": {
    "collapsed": false
   },
   "outputs": [],
   "source": [
    "X_train, X_test = preprocess(X_train), preprocess(X_test)"
   ]
  },
  {
   "cell_type": "code",
   "execution_count": 19,
   "metadata": {
    "collapsed": false
   },
   "outputs": [
    {
     "data": {
      "text/plain": [
       "((60000, 1, 28, 28), dtype('float32'), 1.0)"
      ]
     },
     "execution_count": 19,
     "metadata": {},
     "output_type": "execute_result"
    }
   ],
   "source": [
    "X_train.shape, X_train.dtype, np.max(X_train)"
   ]
  },
  {
   "cell_type": "code",
   "execution_count": 20,
   "metadata": {
    "collapsed": true
   },
   "outputs": [],
   "source": [
    "y_train = np_utils.to_categorical(y_train)\n",
    "y_test = np_utils.to_categorical(y_test)\n",
    "num_classes = y_train.shape[1]"
   ]
  },
  {
   "cell_type": "code",
   "execution_count": 21,
   "metadata": {
    "collapsed": false
   },
   "outputs": [
    {
     "data": {
      "text/plain": [
       "(60000, 10)"
      ]
     },
     "execution_count": 21,
     "metadata": {},
     "output_type": "execute_result"
    }
   ],
   "source": [
    "y_train.shape"
   ]
  },
  {
   "cell_type": "code",
   "execution_count": 22,
   "metadata": {
    "collapsed": true
   },
   "outputs": [],
   "source": [
    "def baseline_model():\n",
    "    # create model\n",
    "    model = Sequential()\n",
    "    model.add(Flatten(input_shape=(1, 28, 28)))\n",
    "    model.add(Dense(num_pixels, init='normal', activation='relu'))\n",
    "    model.add(Dense(num_classes, init='normal', activation='softmax'))\n",
    "    # Compile model\n",
    "    model.compile(loss='categorical_crossentropy', optimizer='adam', metrics=['accuracy'])\n",
    "    return model"
   ]
  },
  {
   "cell_type": "code",
   "execution_count": 23,
   "metadata": {
    "collapsed": true
   },
   "outputs": [],
   "source": [
    "def convolution_small():\n",
    "    # create model\n",
    "    model = Sequential()\n",
    "    model.add(Convolution2D(32, 5, 5, border_mode='valid', input_shape=(1, 28, 28), activation='relu'))\n",
    "    model.add(MaxPooling2D(pool_size=(2, 2)))\n",
    "    model.add(Dropout(0.2))\n",
    "    model.add(Flatten())\n",
    "    model.add(Dense(128, activation='relu'))\n",
    "    model.add(Dense(num_classes, activation='softmax'))\n",
    "    # Compile model\n",
    "    model.compile(loss='categorical_crossentropy', optimizer='adam', metrics=['accuracy'])\n",
    "    return model\n"
   ]
  },
  {
   "cell_type": "code",
   "execution_count": 25,
   "metadata": {
    "collapsed": true
   },
   "outputs": [],
   "source": [
    "def convolution_large():\n",
    "    # create model\n",
    "    model = Sequential()\n",
    "    model.add(Convolution2D(30, 5, 5, border_mode='valid', input_shape=(1, 28, 28), activation='relu'))\n",
    "    model.add(MaxPooling2D(pool_size=(2, 2)))\n",
    "    model.add(Convolution2D(15, 3, 3, activation='relu'))\n",
    "    model.add(MaxPooling2D(pool_size=(2, 2)))\n",
    "    model.add(Dropout(0.2))\n",
    "    model.add(Flatten())\n",
    "    model.add(Dense(128, activation='relu'))\n",
    "    model.add(Dense(50, activation='relu'))\n",
    "    model.add(Dense(num_classes, activation='softmax'))\n",
    "    # Compile model\n",
    "    model.compile(loss='categorical_crossentropy', optimizer='adam', metrics=['accuracy'])\n",
    "    return model"
   ]
  },
  {
   "cell_type": "code",
   "execution_count": 120,
   "metadata": {
    "collapsed": false
   },
   "outputs": [
    {
     "name": "stdout",
     "output_type": "stream",
     "text": [
      "With model: baseline\n",
      "Train on 60000 samples, validate on 10000 samples\n",
      "Epoch 1/10\n",
      "3s - loss: 0.2332 - acc: 0.9313 - val_loss: 0.1113 - val_acc: 0.9670\n",
      "Epoch 2/10\n",
      "3s - loss: 0.0897 - acc: 0.9735 - val_loss: 0.0864 - val_acc: 0.9737\n",
      "Epoch 3/10\n",
      "3s - loss: 0.0559 - acc: 0.9829 - val_loss: 0.0682 - val_acc: 0.9792\n",
      "Epoch 4/10\n",
      "3s - loss: 0.0382 - acc: 0.9886 - val_loss: 0.0642 - val_acc: 0.9789\n",
      "Epoch 5/10\n",
      "2s - loss: 0.0270 - acc: 0.9919 - val_loss: 0.0617 - val_acc: 0.9802\n",
      "Epoch 6/10\n",
      "2s - loss: 0.0188 - acc: 0.9947 - val_loss: 0.0579 - val_acc: 0.9818\n",
      "Epoch 7/10\n",
      "3s - loss: 0.0143 - acc: 0.9962 - val_loss: 0.0650 - val_acc: 0.9805\n",
      "Epoch 8/10\n",
      "2s - loss: 0.0115 - acc: 0.9966 - val_loss: 0.0788 - val_acc: 0.9771\n",
      "Epoch 9/10\n",
      "2s - loss: 0.0107 - acc: 0.9970 - val_loss: 0.0829 - val_acc: 0.9766\n",
      "Epoch 10/10\n",
      "2s - loss: 0.0102 - acc: 0.9970 - val_loss: 0.0724 - val_acc: 0.9796\n",
      "Baseline Error: 2.04%\n",
      "\n",
      "With model: small\n",
      "Train on 60000 samples, validate on 10000 samples\n",
      "Epoch 1/10\n",
      "17s - loss: 0.1878 - acc: 0.9449 - val_loss: 0.0600 - val_acc: 0.9806\n",
      "Epoch 2/10\n",
      "16s - loss: 0.0631 - acc: 0.9808 - val_loss: 0.0424 - val_acc: 0.9850\n",
      "Epoch 3/10\n",
      "16s - loss: 0.0442 - acc: 0.9864 - val_loss: 0.0440 - val_acc: 0.9846\n",
      "Epoch 4/10\n",
      "16s - loss: 0.0335 - acc: 0.9895 - val_loss: 0.0346 - val_acc: 0.9887\n",
      "Epoch 5/10\n",
      "16s - loss: 0.0270 - acc: 0.9913 - val_loss: 0.0333 - val_acc: 0.9892\n",
      "Epoch 6/10\n",
      "17s - loss: 0.0220 - acc: 0.9924 - val_loss: 0.0318 - val_acc: 0.9891\n",
      "Epoch 7/10\n",
      "16s - loss: 0.0160 - acc: 0.9948 - val_loss: 0.0392 - val_acc: 0.9875\n",
      "Epoch 8/10\n",
      "16s - loss: 0.0147 - acc: 0.9947 - val_loss: 0.0420 - val_acc: 0.9869\n",
      "Epoch 9/10\n",
      "16s - loss: 0.0128 - acc: 0.9955 - val_loss: 0.0323 - val_acc: 0.9901\n",
      "Epoch 10/10\n",
      "16s - loss: 0.0110 - acc: 0.9965 - val_loss: 0.0410 - val_acc: 0.9894\n",
      "Baseline Error: 1.06%\n",
      "\n",
      "With model: large\n",
      "Train on 60000 samples, validate on 10000 samples\n",
      "Epoch 1/10\n",
      "26s - loss: 0.2920 - acc: 0.9087 - val_loss: 0.0738 - val_acc: 0.9749\n",
      "Epoch 2/10\n",
      "25s - loss: 0.0816 - acc: 0.9747 - val_loss: 0.0454 - val_acc: 0.9857\n",
      "Epoch 3/10\n",
      "25s - loss: 0.0618 - acc: 0.9807 - val_loss: 0.0414 - val_acc: 0.9852\n",
      "Epoch 4/10\n",
      "25s - loss: 0.0512 - acc: 0.9846 - val_loss: 0.0309 - val_acc: 0.9892\n",
      "Epoch 5/10\n",
      "25s - loss: 0.0439 - acc: 0.9861 - val_loss: 0.0305 - val_acc: 0.9907\n",
      "Epoch 6/10\n",
      "26s - loss: 0.0382 - acc: 0.9879 - val_loss: 0.0304 - val_acc: 0.9899\n",
      "Epoch 7/10\n",
      "25s - loss: 0.0330 - acc: 0.9895 - val_loss: 0.0265 - val_acc: 0.9912\n",
      "Epoch 8/10\n",
      "26s - loss: 0.0301 - acc: 0.9902 - val_loss: 0.0246 - val_acc: 0.9921\n",
      "Epoch 9/10\n",
      "26s - loss: 0.0293 - acc: 0.9905 - val_loss: 0.0327 - val_acc: 0.9892\n",
      "Epoch 10/10\n",
      "27s - loss: 0.0253 - acc: 0.9921 - val_loss: 0.0253 - val_acc: 0.9919\n",
      "Baseline Error: 0.81%\n",
      "\n"
     ]
    }
   ],
   "source": [
    "# build the model\n",
    "np.random.seed(101)\n",
    "models = [('baseline', baseline_model()), \n",
    "          ('small', convolution_small()), \n",
    "          ('large', convolution_large())]\n",
    "\n",
    "for name, model in models:\n",
    "    print(\"With model:\", name)\n",
    "    # Fit the model\n",
    "    model.fit(X_train, y_train, validation_data=(X_test, y_test), nb_epoch=10, batch_size=100, verbose=2)\n",
    "    # Final evaluation of the model\n",
    "    scores = model.evaluate(X_test, y_test, verbose=0)\n",
    "    print(\"Baseline Error: %.2f%%\" % (100-scores[1]*100))\n",
    "    print()"
   ]
  },
  {
   "cell_type": "code",
   "execution_count": null,
   "metadata": {
    "collapsed": true
   },
   "outputs": [],
   "source": []
  }
 ],
 "metadata": {
  "kernelspec": {
   "display_name": "Python 3",
   "language": "python",
   "name": "python3"
  },
  "language_info": {
   "codemirror_mode": {
    "name": "ipython",
    "version": 3
   },
   "file_extension": ".py",
   "mimetype": "text/x-python",
   "name": "python",
   "nbconvert_exporter": "python",
   "pygments_lexer": "ipython3",
   "version": "3.5.2"
  }
 },
 "nbformat": 4,
 "nbformat_minor": 0
}
